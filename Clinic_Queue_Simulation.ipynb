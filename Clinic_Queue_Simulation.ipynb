{
  "nbformat": 4,
  "nbformat_minor": 0,
  "metadata": {
    "colab": {
      "name": "DSA4262 Project 2.ipynb",
      "provenance": [],
      "collapsed_sections": [],
      "include_colab_link": true
    },
    "kernelspec": {
      "name": "python3",
      "display_name": "Python 3"
    }
  },
  "cells": [
    {
      "cell_type": "markdown",
      "metadata": {
        "id": "view-in-github",
        "colab_type": "text"
      },
      "source": [
        "<a href=\"https://colab.research.google.com/github/Min-eralwater/Projects/blob/master/Clinic_Queue_Simulation.ipynb\" target=\"_parent\"><img src=\"https://colab.research.google.com/assets/colab-badge.svg\" alt=\"Open In Colab\"/></a>"
      ]
    },
    {
      "cell_type": "markdown",
      "metadata": {
        "id": "QZ5CFMGwy4FT",
        "colab_type": "text"
      },
      "source": [
        "**Import Packages**"
      ]
    },
    {
      "cell_type": "code",
      "metadata": {
        "id": "smL_xMm-Yq9B",
        "colab_type": "code",
        "colab": {}
      },
      "source": [
        "import numpy as np\n",
        "import pandas as pd\n",
        "import random\n",
        "import matplotlib.pyplot as plt\n",
        "import seaborn as sns\n",
        "from tqdm import tqdm\n",
        "%matplotlib inline\n",
        "np.random.seed(1)"
      ],
      "execution_count": 0,
      "outputs": []
    },
    {
      "cell_type": "markdown",
      "metadata": {
        "id": "kBR_0BCozLeq",
        "colab_type": "text"
      },
      "source": [
        "**Function for Simulation**"
      ]
    },
    {
      "cell_type": "code",
      "metadata": {
        "id": "gQ2wY0KiJOIK",
        "colab_type": "code",
        "colab": {}
      },
      "source": [
        "def hospital_simulation(registration_staffs,doctors,slots):\n",
        "        \n",
        "    patients = pd.DataFrame()\n",
        "    patients['Patient ID'] = range(1,slots+1)\n",
        "    patients['Arrival Time Taken'] = np.random.random_sample(slots)\n",
        "    patients['Arrival Time Taken'] = np.where(patients['Arrival Time Taken']<=0.5,5,patients['Arrival Time Taken'])\n",
        "    patients['Arrival Time Taken'] = np.where(np.logical_and(patients['Arrival Time Taken']>0.5,patients['Arrival Time Taken']<=0.8),10,patients['Arrival Time Taken'])\n",
        "    patients['Arrival Time Taken'] = np.where(np.logical_and(patients['Arrival Time Taken']>0.8,patients['Arrival Time Taken']<=1),15,patients['Arrival Time Taken'])\n",
        "    patients['Arrival Time Taken'] = np.where(patients['Arrival Time Taken']<=0.5,5,patients['Arrival Time Taken'])\n",
        "    patients['Arrival Start Time'] = [pd.to_datetime('08:00', format='%H:%M')]*slots\n",
        "    patients['Arrival End Time'] = [pd.to_datetime('08:00', format='%H:%M')]*slots\n",
        "    patients['Registration Time Taken'] = [7.]*slots\n",
        "    patients['Registration Start Time'] = [pd.to_datetime('08:00', format='%H:%M')]*slots\n",
        "    patients['Registration End Time'] = [pd.to_datetime('08:00', format='%H:%M')]*slots\n",
        "    patients['Consultation Time Taken'] = np.random.random_sample(slots)\n",
        "    patients['Consultation Time Taken'] = np.where(patients['Consultation Time Taken']<=0.3,4,patients['Consultation Time Taken'])\n",
        "    patients['Consultation Time Taken'] = np.where(np.logical_and(patients['Consultation Time Taken']>0.3,patients['Consultation Time Taken']<=0.8),8,patients['Consultation Time Taken'])\n",
        "    patients['Consultation Time Taken'] = np.where(np.logical_and(patients['Consultation Time Taken']>0.8,patients['Consultation Time Taken']<=1),12,patients['Consultation Time Taken'])\n",
        "    patients['Consultation Start Time'] = [pd.to_datetime('08:00', format='%H:%M')]*slots\n",
        "    patients['Consultation End Time'] = [pd.to_datetime('08:00', format='%H:%M')]*slots\n",
        "\n",
        "    current_arrival_time = pd.to_datetime('08:00', format='%H:%M')\n",
        "    current_registration_time = pd.to_datetime('08:00', format='%H:%M')+ pd.Timedelta(minutes=patients.loc[0,'Arrival Time Taken'])\n",
        "    registration_time = []\n",
        "    for j in range(registration_staffs):\n",
        "        registration_time.append(current_registration_time)\n",
        "    current_consultation_time = pd.to_datetime('08:00', format='%H:%M')+ pd.Timedelta(minutes=patients.loc[0,'Arrival Time Taken'])+ pd.Timedelta(minutes=patients.loc[0,'Registration Time Taken'])\n",
        "    consultation_time = []\n",
        "    for k in range(doctors):\n",
        "        consultation_time.append(current_consultation_time)\n",
        "    for i in range(patients.shape[0]):\n",
        "        patients.loc[i,'Arrival Start Time'] = current_arrival_time\n",
        "        patients.loc[i,'Arrival End Time'] = current_arrival_time + pd.Timedelta(minutes=patients.loc[i,'Arrival Time Taken'])\n",
        "        current_arrival_time = patients.loc[i,'Arrival End Time']\n",
        "        patients.loc[i,'Registration Start Time'] = max(min(registration_time),patients.loc[i,'Arrival End Time'])\n",
        "        patients.loc[i,'Registration End Time'] = patients.loc[i,'Registration Start Time'] + pd.Timedelta(minutes=patients.loc[i,'Registration Time Taken'])\n",
        "        registration_time[registration_time.index(min(registration_time))] = patients.loc[i,'Registration End Time']\n",
        "        patients.loc[i,'Consultation Start Time'] = max(min(consultation_time),patients.loc[i,'Registration End Time'])\n",
        "        patients.loc[i,'Consultation End Time'] = patients.loc[i,'Consultation Start Time'] + pd.Timedelta(minutes=patients.loc[i,'Consultation Time Taken'])\n",
        "        consultation_time[consultation_time.index(min(consultation_time))] = patients.loc[i,'Consultation End Time']\n",
        "    \n",
        "    patients['Arrival Start Time'] = patients['Arrival Start Time'].dt.time\n",
        "    patients['Arrival End Time'] = patients['Arrival End Time'].dt.time\n",
        "    patients['Registration Start Time'] = patients['Registration Start Time'].dt.time\n",
        "    patients['Registration End Time'] = patients['Registration End Time'].dt.time\n",
        "    patients['Consultation Start Time'] = patients['Consultation Start Time'].dt.time\n",
        "    patients['Consultation End Time'] = patients['Consultation End Time'].dt.time\n",
        "    \n",
        "    return(patients)"
      ],
      "execution_count": 0,
      "outputs": []
    },
    {
      "cell_type": "markdown",
      "metadata": {
        "id": "x4CJF9ABzWtT",
        "colab_type": "text"
      },
      "source": [
        "**Example**"
      ]
    },
    {
      "cell_type": "code",
      "metadata": {
        "id": "tyqYVZ0JJT16",
        "colab_type": "code",
        "outputId": "3b622611-16e3-4d0a-ac1d-a6bd8eaa6df7",
        "colab": {
          "base_uri": "https://localhost:8080/",
          "height": 219
        }
      },
      "source": [
        "hospital_simulation(2,1,30).head()"
      ],
      "execution_count": 0,
      "outputs": [
        {
          "output_type": "execute_result",
          "data": {
            "text/html": [
              "<div>\n",
              "<style scoped>\n",
              "    .dataframe tbody tr th:only-of-type {\n",
              "        vertical-align: middle;\n",
              "    }\n",
              "\n",
              "    .dataframe tbody tr th {\n",
              "        vertical-align: top;\n",
              "    }\n",
              "\n",
              "    .dataframe thead th {\n",
              "        text-align: right;\n",
              "    }\n",
              "</style>\n",
              "<table border=\"1\" class=\"dataframe\">\n",
              "  <thead>\n",
              "    <tr style=\"text-align: right;\">\n",
              "      <th></th>\n",
              "      <th>Patient ID</th>\n",
              "      <th>Arrival Time Taken</th>\n",
              "      <th>Arrival Start Time</th>\n",
              "      <th>Arrival End Time</th>\n",
              "      <th>Registration Time Taken</th>\n",
              "      <th>Registration Start Time</th>\n",
              "      <th>Registration End Time</th>\n",
              "      <th>Consultation Time Taken</th>\n",
              "      <th>Consultation Start Time</th>\n",
              "      <th>Consultation End Time</th>\n",
              "    </tr>\n",
              "  </thead>\n",
              "  <tbody>\n",
              "    <tr>\n",
              "      <th>0</th>\n",
              "      <td>1</td>\n",
              "      <td>5.0</td>\n",
              "      <td>08:00:00</td>\n",
              "      <td>08:05:00</td>\n",
              "      <td>7.0</td>\n",
              "      <td>08:05:00</td>\n",
              "      <td>08:12:00</td>\n",
              "      <td>4.0</td>\n",
              "      <td>08:12:00</td>\n",
              "      <td>08:16:00</td>\n",
              "    </tr>\n",
              "    <tr>\n",
              "      <th>1</th>\n",
              "      <td>2</td>\n",
              "      <td>10.0</td>\n",
              "      <td>08:05:00</td>\n",
              "      <td>08:15:00</td>\n",
              "      <td>7.0</td>\n",
              "      <td>08:15:00</td>\n",
              "      <td>08:22:00</td>\n",
              "      <td>8.0</td>\n",
              "      <td>08:22:00</td>\n",
              "      <td>08:30:00</td>\n",
              "    </tr>\n",
              "    <tr>\n",
              "      <th>2</th>\n",
              "      <td>3</td>\n",
              "      <td>5.0</td>\n",
              "      <td>08:15:00</td>\n",
              "      <td>08:20:00</td>\n",
              "      <td>7.0</td>\n",
              "      <td>08:20:00</td>\n",
              "      <td>08:27:00</td>\n",
              "      <td>12.0</td>\n",
              "      <td>08:30:00</td>\n",
              "      <td>08:42:00</td>\n",
              "    </tr>\n",
              "    <tr>\n",
              "      <th>3</th>\n",
              "      <td>4</td>\n",
              "      <td>5.0</td>\n",
              "      <td>08:20:00</td>\n",
              "      <td>08:25:00</td>\n",
              "      <td>7.0</td>\n",
              "      <td>08:25:00</td>\n",
              "      <td>08:32:00</td>\n",
              "      <td>8.0</td>\n",
              "      <td>08:42:00</td>\n",
              "      <td>08:50:00</td>\n",
              "    </tr>\n",
              "    <tr>\n",
              "      <th>4</th>\n",
              "      <td>5</td>\n",
              "      <td>5.0</td>\n",
              "      <td>08:25:00</td>\n",
              "      <td>08:30:00</td>\n",
              "      <td>7.0</td>\n",
              "      <td>08:30:00</td>\n",
              "      <td>08:37:00</td>\n",
              "      <td>8.0</td>\n",
              "      <td>08:50:00</td>\n",
              "      <td>08:58:00</td>\n",
              "    </tr>\n",
              "  </tbody>\n",
              "</table>\n",
              "</div>"
            ],
            "text/plain": [
              "   Patient ID  Arrival Time Taken  ... Consultation Start Time Consultation End Time\n",
              "0           1                 5.0  ...                08:12:00              08:16:00\n",
              "1           2                10.0  ...                08:22:00              08:30:00\n",
              "2           3                 5.0  ...                08:30:00              08:42:00\n",
              "3           4                 5.0  ...                08:42:00              08:50:00\n",
              "4           5                 5.0  ...                08:50:00              08:58:00\n",
              "\n",
              "[5 rows x 10 columns]"
            ]
          },
          "metadata": {
            "tags": []
          },
          "execution_count": 4
        }
      ]
    },
    {
      "cell_type": "markdown",
      "metadata": {
        "id": "ERNTp8Lvzg9x",
        "colab_type": "text"
      },
      "source": [
        "**Function for Simulating with Multiple Days with Cost Calculation**"
      ]
    },
    {
      "cell_type": "code",
      "metadata": {
        "id": "BDMwL47yJW2K",
        "colab_type": "code",
        "colab": {}
      },
      "source": [
        "def days_simulation(registration_staffs, doctors, slots, days, close_at='12:30:00'):\n",
        "    open_time = []\n",
        "    ot_time = []\n",
        "    registration_wait = []\n",
        "    consultation_wait = []\n",
        "    \n",
        "    for day in tqdm(range(days)):\n",
        "        temp_data = hospital_simulation(registration_staffs, doctors, slots)\n",
        "        temp_data['Arrival End Time'] = temp_data['Arrival End Time'].apply(lambda x: pd.to_timedelta(str(x)))\n",
        "        temp_data['Consultation Start Time'] = temp_data['Consultation Start Time'].apply(lambda x: pd.to_timedelta(str(x)))\n",
        "        temp_data['Consultation End Time'] = temp_data['Consultation End Time'].apply(lambda x: pd.to_timedelta(str(x)))\n",
        "        temp_data['Registration End Time'] = temp_data['Registration End Time'].apply(lambda x: pd.to_timedelta(str(x)))\n",
        "        temp_data['Registration Start Time'] = temp_data['Registration Start Time'].apply(lambda x: pd.to_timedelta(str(x)))\n",
        "\n",
        "        open_time.append((max(temp_data['Consultation End Time']) - pd.to_timedelta('08:00:00')))\n",
        "        ot_time.append(max(pd.to_timedelta('00:00:00'), (max(temp_data['Consultation End Time']) - pd.to_timedelta(close_at))).seconds/60)\n",
        "\n",
        "        registration_wait.append((temp_data['Registration Start Time'] - temp_data['Arrival End Time']).apply(lambda x: x.seconds/60).mean())\n",
        "        consultation_wait.append((temp_data['Consultation Start Time'] - temp_data['Registration End Time']).apply(lambda x: x.seconds/60).mean())\n",
        "        \n",
        "    staff_ot_pay = ((np.array(ot_time) / 15)*7)*registration_staffs\n",
        "    doctor_ot_pay = ((np.array(ot_time) / 15)*30)* doctors\n",
        "    \n",
        "    add_staff_pay = (registration_staffs-1)*12*4.5 + 12 * (pd.to_timedelta(close_at) - pd.to_timedelta('12:30:00')).seconds / 3600\n",
        "    add_doctor_pay = (doctors-1)*50*4.5 + 50 * (pd.to_timedelta(close_at) - pd.to_timedelta('12:30:00')).seconds / 3600\n",
        "\n",
        "    df = pd.DataFrame({\n",
        "                       'Open Time': open_time,\n",
        "                       'OT Time': ot_time, \n",
        "                       'Staff OT Fees': staff_ot_pay,\n",
        "                       'Doctor OT Fees': doctor_ot_pay,\n",
        "                       'Extra Staff Fees': add_staff_pay,\n",
        "                       'Extra Doctor Fees': add_doctor_pay,\n",
        "                       'Registration Waiting Time': registration_wait, \n",
        "                       'Consultation Waiting Time': consultation_wait,\n",
        "                       })\n",
        "    return df"
      ],
      "execution_count": 0,
      "outputs": []
    },
    {
      "cell_type": "markdown",
      "metadata": {
        "id": "RKNQMobez2CQ",
        "colab_type": "text"
      },
      "source": [
        "**Function to give Summary Statistics**"
      ]
    },
    {
      "cell_type": "code",
      "metadata": {
        "id": "qnjp7pTHL3rm",
        "colab_type": "code",
        "colab": {}
      },
      "source": [
        "def simulation_stats(registration_staffs, doctors, slots, days, close_at='12:30:00'):\n",
        "    df = days_simulation(registration_staffs, doctors, slots, days, close_at)\n",
        "    return pd.DataFrame({\n",
        "            'Mean Open Time': [df['Open Time'].mean()],\n",
        "            'Total OT Time': [df['OT Time'].sum()], \n",
        "            'Total Staff OT Fees': [df['Staff OT Fees'].sum()],\n",
        "            'Total Doctor OT Fees': [df['Doctor OT Fees'].sum()],\n",
        "            'Total Extra Staff Fees': [df['Extra Staff Fees'].sum()],\n",
        "            'Total Extra Doctor Fees': [df['Extra Doctor Fees'].sum()],\n",
        "            'Mean Registration Waiting Time': [df['Registration Waiting Time'].mean()], \n",
        "            'Mean Consultation Waiting Time': [df['Consultation Waiting Time'].mean()],\n",
        "            })"
      ],
      "execution_count": 0,
      "outputs": []
    },
    {
      "cell_type": "markdown",
      "metadata": {
        "id": "Cv-Ptj7r0TP4",
        "colab_type": "text"
      },
      "source": [
        "**Plotting out the Boxplot**"
      ]
    },
    {
      "cell_type": "code",
      "metadata": {
        "id": "0RZoxq9CMyhs",
        "colab_type": "code",
        "outputId": "7621095d-665d-4701-fe03-fbc6c23a47a7",
        "colab": {
          "base_uri": "https://localhost:8080/",
          "height": 748
        }
      },
      "source": [
        "df = days_simulation(registration_staffs=1, doctors=1, slots=50, days=30, close_at='12:30:00')\n",
        "\n",
        "plot_df = pd.DataFrame()\n",
        "plot_df['Type'] = ['Opening Hours']*30+['Overtime Minutes']*30\n",
        "plot_df['Time Taken'] = list(pd.to_timedelta(df['Open Time']).dt.seconds/60**2) + list(df['OT Time'])\n",
        "\n",
        "sns.set(rc={'figure.figsize':(11.7,8.27)})\n",
        "sns.set_style(\"whitegrid\", {'axes.grid' : False})\n",
        "sns.catplot(x='Type',y='Time Taken', data=plot_df[plot_df['Type']=='Overtime Minutes'],kind=\"box\",dodge=\"False\")\n",
        "sns.catplot(x='Type',y='Time Taken', data=plot_df[plot_df['Type']=='Opening Hours'],kind=\"box\",dodge=\"False\")"
      ],
      "execution_count": 0,
      "outputs": [
        {
          "output_type": "stream",
          "text": [
            "100%|██████████| 30/30 [00:06<00:00,  4.62it/s]\n"
          ],
          "name": "stderr"
        },
        {
          "output_type": "execute_result",
          "data": {
            "text/plain": [
              "<seaborn.axisgrid.FacetGrid at 0x7f5095fb1da0>"
            ]
          },
          "metadata": {
            "tags": []
          },
          "execution_count": 42
        },
        {
          "output_type": "display_data",
          "data": {
            "image/png": "[encoded data removed]",
            "text/plain": [
              "<Figure size 360x360 with 1 Axes>"
            ]
          },
          "metadata": {
            "tags": []
          }
        },
        {
          "output_type": "display_data",
          "data": {
            "image/png": "[encoded data removed]",
            "text/plain": [
              "<Figure size 360x360 with 1 Axes>"
            ]
          },
          "metadata": {
            "tags": []
          }
        }
      ]
    },
    {
      "cell_type": "markdown",
      "metadata": {
        "id": "Hx7Sk0HWE8H3",
        "colab_type": "text"
      },
      "source": [
        "**Testing for 30 Patients in 30 Days by Changing the Number of Staffs and Doctors**"
      ]
    },
    {
      "cell_type": "code",
      "metadata": {
        "id": "6MwZizZFBqo3",
        "colab_type": "code",
        "outputId": "fe0009a6-27b9-45c8-812e-975f54f6c594",
        "colab": {
          "base_uri": "https://localhost:8080/",
          "height": 114
        }
      },
      "source": [
        "np.random.seed(1)\n",
        "simulation_stats(registration_staffs=1, doctors=1, slots=30, days=30, close_at='12:30:00') # 1 staff, 1 doctor\n"
      ],
      "execution_count": 0,
      "outputs": [
        {
          "output_type": "stream",
          "text": [
            "100%|██████████| 30/30 [00:05<00:00,  5.74it/s]\n"
          ],
          "name": "stderr"
        },
        {
          "output_type": "execute_result",
          "data": {
            "text/html": [
              "<div>\n",
              "<style scoped>\n",
              "    .dataframe tbody tr th:only-of-type {\n",
              "        vertical-align: middle;\n",
              "    }\n",
              "\n",
              "    .dataframe tbody tr th {\n",
              "        vertical-align: top;\n",
              "    }\n",
              "\n",
              "    .dataframe thead th {\n",
              "        text-align: right;\n",
              "    }\n",
              "</style>\n",
              "<table border=\"1\" class=\"dataframe\">\n",
              "  <thead>\n",
              "    <tr style=\"text-align: right;\">\n",
              "      <th></th>\n",
              "      <th>Mean Open Time</th>\n",
              "      <th>Total OT Time</th>\n",
              "      <th>Total Staff OT Fees</th>\n",
              "      <th>Total Doctor OT Fees</th>\n",
              "      <th>Total Extra Staff Fees</th>\n",
              "      <th>Total Extra Doctor Fees</th>\n",
              "      <th>Mean Registration Waiting Time</th>\n",
              "      <th>Mean Consultation Waiting Time</th>\n",
              "    </tr>\n",
              "  </thead>\n",
              "  <tbody>\n",
              "    <tr>\n",
              "      <th>0</th>\n",
              "      <td>04:45:42</td>\n",
              "      <td>538.0</td>\n",
              "      <td>251.066667</td>\n",
              "      <td>1076.0</td>\n",
              "      <td>0.0</td>\n",
              "      <td>0.0</td>\n",
              "      <td>2.182222</td>\n",
              "      <td>4.626667</td>\n",
              "    </tr>\n",
              "  </tbody>\n",
              "</table>\n",
              "</div>"
            ],
            "text/plain": [
              "  Mean Open Time  ...  Mean Consultation Waiting Time\n",
              "0       04:45:42  ...                        4.626667\n",
              "\n",
              "[1 rows x 8 columns]"
            ]
          },
          "metadata": {
            "tags": []
          },
          "execution_count": 20
        }
      ]
    },
    {
      "cell_type": "code",
      "metadata": {
        "id": "KI6VwWcOQpp3",
        "colab_type": "code",
        "outputId": "70d1e15b-5a75-47bb-873b-702f4141dc09",
        "colab": {
          "base_uri": "https://localhost:8080/",
          "height": 114
        }
      },
      "source": [
        "np.random.seed(1)\n",
        "simulation_stats(registration_staffs=2, doctors=1, slots=30, days=30, close_at='12:30:00') # 2 staffs, 1 doctor"
      ],
      "execution_count": 0,
      "outputs": [
        {
          "output_type": "stream",
          "text": [
            "100%|██████████| 30/30 [00:05<00:00,  5.66it/s]\n"
          ],
          "name": "stderr"
        },
        {
          "output_type": "execute_result",
          "data": {
            "text/html": [
              "<div>\n",
              "<style scoped>\n",
              "    .dataframe tbody tr th:only-of-type {\n",
              "        vertical-align: middle;\n",
              "    }\n",
              "\n",
              "    .dataframe tbody tr th {\n",
              "        vertical-align: top;\n",
              "    }\n",
              "\n",
              "    .dataframe thead th {\n",
              "        text-align: right;\n",
              "    }\n",
              "</style>\n",
              "<table border=\"1\" class=\"dataframe\">\n",
              "  <thead>\n",
              "    <tr style=\"text-align: right;\">\n",
              "      <th></th>\n",
              "      <th>Mean Open Time</th>\n",
              "      <th>Total OT Time</th>\n",
              "      <th>Total Staff OT Fees</th>\n",
              "      <th>Total Doctor OT Fees</th>\n",
              "      <th>Total Extra Staff Fees</th>\n",
              "      <th>Total Extra Doctor Fees</th>\n",
              "      <th>Mean Registration Waiting Time</th>\n",
              "      <th>Mean Consultation Waiting Time</th>\n",
              "    </tr>\n",
              "  </thead>\n",
              "  <tbody>\n",
              "    <tr>\n",
              "      <th>0</th>\n",
              "      <td>04:45:06</td>\n",
              "      <td>524.0</td>\n",
              "      <td>489.066667</td>\n",
              "      <td>1048.0</td>\n",
              "      <td>1620.0</td>\n",
              "      <td>0.0</td>\n",
              "      <td>0.0</td>\n",
              "      <td>6.132222</td>\n",
              "    </tr>\n",
              "  </tbody>\n",
              "</table>\n",
              "</div>"
            ],
            "text/plain": [
              "  Mean Open Time  ...  Mean Consultation Waiting Time\n",
              "0       04:45:06  ...                        6.132222\n",
              "\n",
              "[1 rows x 8 columns]"
            ]
          },
          "metadata": {
            "tags": []
          },
          "execution_count": 21
        }
      ]
    },
    {
      "cell_type": "code",
      "metadata": {
        "id": "Pchx4X-aCxOB",
        "colab_type": "code",
        "outputId": "dcdd475b-5a4a-4de7-cf70-4e470db12c4e",
        "colab": {
          "base_uri": "https://localhost:8080/",
          "height": 114
        }
      },
      "source": [
        "np.random.seed(1)\n",
        "simulation_stats(registration_staffs=1, doctors=2, slots=30, days=30, close_at='12:30:00') # 1 staff, 2 doctors"
      ],
      "execution_count": 0,
      "outputs": [
        {
          "output_type": "stream",
          "text": [
            "100%|██████████| 30/30 [00:05<00:00,  5.74it/s]\n"
          ],
          "name": "stderr"
        },
        {
          "output_type": "execute_result",
          "data": {
            "text/html": [
              "<div>\n",
              "<style scoped>\n",
              "    .dataframe tbody tr th:only-of-type {\n",
              "        vertical-align: middle;\n",
              "    }\n",
              "\n",
              "    .dataframe tbody tr th {\n",
              "        vertical-align: top;\n",
              "    }\n",
              "\n",
              "    .dataframe thead th {\n",
              "        text-align: right;\n",
              "    }\n",
              "</style>\n",
              "<table border=\"1\" class=\"dataframe\">\n",
              "  <thead>\n",
              "    <tr style=\"text-align: right;\">\n",
              "      <th></th>\n",
              "      <th>Mean Open Time</th>\n",
              "      <th>Total OT Time</th>\n",
              "      <th>Total Staff OT Fees</th>\n",
              "      <th>Total Doctor OT Fees</th>\n",
              "      <th>Total Extra Staff Fees</th>\n",
              "      <th>Total Extra Doctor Fees</th>\n",
              "      <th>Mean Registration Waiting Time</th>\n",
              "      <th>Mean Consultation Waiting Time</th>\n",
              "    </tr>\n",
              "  </thead>\n",
              "  <tbody>\n",
              "    <tr>\n",
              "      <th>0</th>\n",
              "      <td>04:39:02</td>\n",
              "      <td>383.0</td>\n",
              "      <td>178.733333</td>\n",
              "      <td>1532.0</td>\n",
              "      <td>0.0</td>\n",
              "      <td>6750.0</td>\n",
              "      <td>2.182222</td>\n",
              "      <td>0.0</td>\n",
              "    </tr>\n",
              "  </tbody>\n",
              "</table>\n",
              "</div>"
            ],
            "text/plain": [
              "  Mean Open Time  ...  Mean Consultation Waiting Time\n",
              "0       04:39:02  ...                             0.0\n",
              "\n",
              "[1 rows x 8 columns]"
            ]
          },
          "metadata": {
            "tags": []
          },
          "execution_count": 22
        }
      ]
    },
    {
      "cell_type": "code",
      "metadata": {
        "id": "BAo8iUotMecM",
        "colab_type": "code",
        "outputId": "53baa421-2bdc-40a6-f5ea-e63348c0baa8",
        "colab": {
          "base_uri": "https://localhost:8080/",
          "height": 114
        }
      },
      "source": [
        "np.random.seed(1)\n",
        "simulation_stats(registration_staffs=2, doctors=2, slots=30, days=30, close_at='12:30:00') # 2 staffs, 2 doctors"
      ],
      "execution_count": 0,
      "outputs": [
        {
          "output_type": "stream",
          "text": [
            "100%|██████████| 30/30 [00:05<00:00,  6.11it/s]\n"
          ],
          "name": "stderr"
        },
        {
          "output_type": "execute_result",
          "data": {
            "text/html": [
              "<div>\n",
              "<style scoped>\n",
              "    .dataframe tbody tr th:only-of-type {\n",
              "        vertical-align: middle;\n",
              "    }\n",
              "\n",
              "    .dataframe tbody tr th {\n",
              "        vertical-align: top;\n",
              "    }\n",
              "\n",
              "    .dataframe thead th {\n",
              "        text-align: right;\n",
              "    }\n",
              "</style>\n",
              "<table border=\"1\" class=\"dataframe\">\n",
              "  <thead>\n",
              "    <tr style=\"text-align: right;\">\n",
              "      <th></th>\n",
              "      <th>Mean Open Time</th>\n",
              "      <th>Total OT Time</th>\n",
              "      <th>Total Staff OT Fees</th>\n",
              "      <th>Total Doctor OT Fees</th>\n",
              "      <th>Total Extra Staff Fees</th>\n",
              "      <th>Total Extra Doctor Fees</th>\n",
              "      <th>Mean Registration Waiting Time</th>\n",
              "      <th>Mean Consultation Waiting Time</th>\n",
              "    </tr>\n",
              "  </thead>\n",
              "  <tbody>\n",
              "    <tr>\n",
              "      <th>0</th>\n",
              "      <td>04:36:30</td>\n",
              "      <td>341.0</td>\n",
              "      <td>318.266667</td>\n",
              "      <td>1364.0</td>\n",
              "      <td>1620.0</td>\n",
              "      <td>6750.0</td>\n",
              "      <td>0.0</td>\n",
              "      <td>0.064444</td>\n",
              "    </tr>\n",
              "  </tbody>\n",
              "</table>\n",
              "</div>"
            ],
            "text/plain": [
              "  Mean Open Time  ...  Mean Consultation Waiting Time\n",
              "0       04:36:30  ...                        0.064444\n",
              "\n",
              "[1 rows x 8 columns]"
            ]
          },
          "metadata": {
            "tags": []
          },
          "execution_count": 23
        }
      ]
    },
    {
      "cell_type": "markdown",
      "metadata": {
        "id": "hAXA_BARFQpv",
        "colab_type": "text"
      },
      "source": [
        "**Testing for 30 Patients in 30 Days by Extending Overtime by 15 minutes**"
      ]
    },
    {
      "cell_type": "code",
      "metadata": {
        "id": "WtodcrBC6mLc",
        "colab_type": "code",
        "outputId": "0dfa3b7f-577c-46ea-b5ec-fbfc67b319b6",
        "colab": {
          "base_uri": "https://localhost:8080/",
          "height": 114
        }
      },
      "source": [
        "np.random.seed(1)\n",
        "simulation_stats(registration_staffs=1, doctors=1, slots=30, days=30, close_at='12:45:00') "
      ],
      "execution_count": 0,
      "outputs": [
        {
          "output_type": "stream",
          "text": [
            "100%|██████████| 30/30 [00:05<00:00,  6.01it/s]\n"
          ],
          "name": "stderr"
        },
        {
          "output_type": "execute_result",
          "data": {
            "text/html": [
              "<div>\n",
              "<style scoped>\n",
              "    .dataframe tbody tr th:only-of-type {\n",
              "        vertical-align: middle;\n",
              "    }\n",
              "\n",
              "    .dataframe tbody tr th {\n",
              "        vertical-align: top;\n",
              "    }\n",
              "\n",
              "    .dataframe thead th {\n",
              "        text-align: right;\n",
              "    }\n",
              "</style>\n",
              "<table border=\"1\" class=\"dataframe\">\n",
              "  <thead>\n",
              "    <tr style=\"text-align: right;\">\n",
              "      <th></th>\n",
              "      <th>Mean Open Time</th>\n",
              "      <th>Total OT Time</th>\n",
              "      <th>Total Staff OT Fees</th>\n",
              "      <th>Total Doctor OT Fees</th>\n",
              "      <th>Total Extra Staff Fees</th>\n",
              "      <th>Total Extra Doctor Fees</th>\n",
              "      <th>Mean Registration Waiting Time</th>\n",
              "      <th>Mean Consultation Waiting Time</th>\n",
              "    </tr>\n",
              "  </thead>\n",
              "  <tbody>\n",
              "    <tr>\n",
              "      <th>0</th>\n",
              "      <td>04:45:42</td>\n",
              "      <td>203.0</td>\n",
              "      <td>94.733333</td>\n",
              "      <td>406.0</td>\n",
              "      <td>90.0</td>\n",
              "      <td>375.0</td>\n",
              "      <td>2.182222</td>\n",
              "      <td>4.626667</td>\n",
              "    </tr>\n",
              "  </tbody>\n",
              "</table>\n",
              "</div>"
            ],
            "text/plain": [
              "  Mean Open Time  ...  Mean Consultation Waiting Time\n",
              "0       04:45:42  ...                        4.626667\n",
              "\n",
              "[1 rows x 8 columns]"
            ]
          },
          "metadata": {
            "tags": []
          },
          "execution_count": 24
        }
      ]
    },
    {
      "cell_type": "markdown",
      "metadata": {
        "id": "RJHybC1LFtJm",
        "colab_type": "text"
      },
      "source": [
        "**Testing for 50 Patients in 30 Days by Changing the Number of Staffs and Doctors**"
      ]
    },
    {
      "cell_type": "code",
      "metadata": {
        "id": "paZgB6kPTFKW",
        "colab_type": "code",
        "outputId": "4b70af31-638b-46ff-ae20-445cd2e94f0f",
        "colab": {
          "base_uri": "https://localhost:8080/",
          "height": 114
        }
      },
      "source": [
        "np.random.seed(1)\n",
        "simulation_stats(registration_staffs=1, doctors=1, slots=50, days=30, close_at='12:30:00') # 1 staff, 1 doctor"
      ],
      "execution_count": 0,
      "outputs": [
        {
          "output_type": "stream",
          "text": [
            "100%|██████████| 30/30 [00:07<00:00,  3.99it/s]\n"
          ],
          "name": "stderr"
        },
        {
          "output_type": "execute_result",
          "data": {
            "text/html": [
              "<div>\n",
              "<style scoped>\n",
              "    .dataframe tbody tr th:only-of-type {\n",
              "        vertical-align: middle;\n",
              "    }\n",
              "\n",
              "    .dataframe tbody tr th {\n",
              "        vertical-align: top;\n",
              "    }\n",
              "\n",
              "    .dataframe thead th {\n",
              "        text-align: right;\n",
              "    }\n",
              "</style>\n",
              "<table border=\"1\" class=\"dataframe\">\n",
              "  <thead>\n",
              "    <tr style=\"text-align: right;\">\n",
              "      <th></th>\n",
              "      <th>Mean Open Time</th>\n",
              "      <th>Total OT Time</th>\n",
              "      <th>Total Staff OT Fees</th>\n",
              "      <th>Total Doctor OT Fees</th>\n",
              "      <th>Total Extra Staff Fees</th>\n",
              "      <th>Total Extra Doctor Fees</th>\n",
              "      <th>Mean Registration Waiting Time</th>\n",
              "      <th>Mean Consultation Waiting Time</th>\n",
              "    </tr>\n",
              "  </thead>\n",
              "  <tbody>\n",
              "    <tr>\n",
              "      <th>0</th>\n",
              "      <td>07:31:10</td>\n",
              "      <td>5435.0</td>\n",
              "      <td>2536.333333</td>\n",
              "      <td>10870.0</td>\n",
              "      <td>0.0</td>\n",
              "      <td>0.0</td>\n",
              "      <td>2.534</td>\n",
              "      <td>4.700667</td>\n",
              "    </tr>\n",
              "  </tbody>\n",
              "</table>\n",
              "</div>"
            ],
            "text/plain": [
              "  Mean Open Time  ...  Mean Consultation Waiting Time\n",
              "0       07:31:10  ...                        4.700667\n",
              "\n",
              "[1 rows x 8 columns]"
            ]
          },
          "metadata": {
            "tags": []
          },
          "execution_count": 27
        }
      ]
    },
    {
      "cell_type": "code",
      "metadata": {
        "id": "eT8Z5IpJSzvL",
        "colab_type": "code",
        "outputId": "77164274-a963-4df6-96b5-1173017155d9",
        "colab": {
          "base_uri": "https://localhost:8080/",
          "height": 114
        }
      },
      "source": [
        "np.random.seed(1)\n",
        "simulation_stats(registration_staffs=2, doctors=2, slots=50, days=30, close_at='12:30:00') # 2 staffs, 2 doctors"
      ],
      "execution_count": 0,
      "outputs": [
        {
          "output_type": "stream",
          "text": [
            "100%|██████████| 30/30 [00:07<00:00,  3.86it/s]\n"
          ],
          "name": "stderr"
        },
        {
          "output_type": "execute_result",
          "data": {
            "text/html": [
              "<div>\n",
              "<style scoped>\n",
              "    .dataframe tbody tr th:only-of-type {\n",
              "        vertical-align: middle;\n",
              "    }\n",
              "\n",
              "    .dataframe tbody tr th {\n",
              "        vertical-align: top;\n",
              "    }\n",
              "\n",
              "    .dataframe thead th {\n",
              "        text-align: right;\n",
              "    }\n",
              "</style>\n",
              "<table border=\"1\" class=\"dataframe\">\n",
              "  <thead>\n",
              "    <tr style=\"text-align: right;\">\n",
              "      <th></th>\n",
              "      <th>Mean Open Time</th>\n",
              "      <th>Total OT Time</th>\n",
              "      <th>Total Staff OT Fees</th>\n",
              "      <th>Total Doctor OT Fees</th>\n",
              "      <th>Total Extra Staff Fees</th>\n",
              "      <th>Total Extra Doctor Fees</th>\n",
              "      <th>Mean Registration Waiting Time</th>\n",
              "      <th>Mean Consultation Waiting Time</th>\n",
              "    </tr>\n",
              "  </thead>\n",
              "  <tbody>\n",
              "    <tr>\n",
              "      <th>0</th>\n",
              "      <td>07:22:10</td>\n",
              "      <td>5165.0</td>\n",
              "      <td>4820.666667</td>\n",
              "      <td>20660.0</td>\n",
              "      <td>1620.0</td>\n",
              "      <td>6750.0</td>\n",
              "      <td>0.0</td>\n",
              "      <td>0.07</td>\n",
              "    </tr>\n",
              "  </tbody>\n",
              "</table>\n",
              "</div>"
            ],
            "text/plain": [
              "  Mean Open Time  ...  Mean Consultation Waiting Time\n",
              "0       07:22:10  ...                            0.07\n",
              "\n",
              "[1 rows x 8 columns]"
            ]
          },
          "metadata": {
            "tags": []
          },
          "execution_count": 26
        }
      ]
    },
    {
      "cell_type": "markdown",
      "metadata": {
        "id": "N3PWeypGF6yd",
        "colab_type": "text"
      },
      "source": [
        "**Testing for 50 Patients in 30 Days by Extending Overtime by 15 minutes**"
      ]
    },
    {
      "cell_type": "code",
      "metadata": {
        "id": "aHY7HYsOVMqR",
        "colab_type": "code",
        "outputId": "9d7eabd9-a254-4fc0-ddb7-951ced45fa07",
        "colab": {
          "base_uri": "https://localhost:8080/",
          "height": 114
        }
      },
      "source": [
        "np.random.seed(1)\n",
        "simulation_stats(registration_staffs=1, doctors=1, slots=50, days=30, close_at='15:30:00') "
      ],
      "execution_count": 0,
      "outputs": [
        {
          "output_type": "stream",
          "text": [
            "100%|██████████| 30/30 [00:07<00:00,  3.87it/s]\n"
          ],
          "name": "stderr"
        },
        {
          "output_type": "execute_result",
          "data": {
            "text/html": [
              "<div>\n",
              "<style scoped>\n",
              "    .dataframe tbody tr th:only-of-type {\n",
              "        vertical-align: middle;\n",
              "    }\n",
              "\n",
              "    .dataframe tbody tr th {\n",
              "        vertical-align: top;\n",
              "    }\n",
              "\n",
              "    .dataframe thead th {\n",
              "        text-align: right;\n",
              "    }\n",
              "</style>\n",
              "<table border=\"1\" class=\"dataframe\">\n",
              "  <thead>\n",
              "    <tr style=\"text-align: right;\">\n",
              "      <th></th>\n",
              "      <th>Mean Open Time</th>\n",
              "      <th>Total OT Time</th>\n",
              "      <th>Total Staff OT Fees</th>\n",
              "      <th>Total Doctor OT Fees</th>\n",
              "      <th>Total Extra Staff Fees</th>\n",
              "      <th>Total Extra Doctor Fees</th>\n",
              "      <th>Mean Registration Waiting Time</th>\n",
              "      <th>Mean Consultation Waiting Time</th>\n",
              "    </tr>\n",
              "  </thead>\n",
              "  <tbody>\n",
              "    <tr>\n",
              "      <th>0</th>\n",
              "      <td>07:31:10</td>\n",
              "      <td>249.0</td>\n",
              "      <td>116.2</td>\n",
              "      <td>498.0</td>\n",
              "      <td>1080.0</td>\n",
              "      <td>4500.0</td>\n",
              "      <td>2.534</td>\n",
              "      <td>4.700667</td>\n",
              "    </tr>\n",
              "  </tbody>\n",
              "</table>\n",
              "</div>"
            ],
            "text/plain": [
              "  Mean Open Time  ...  Mean Consultation Waiting Time\n",
              "0       07:31:10  ...                        4.700667\n",
              "\n",
              "[1 rows x 8 columns]"
            ]
          },
          "metadata": {
            "tags": []
          },
          "execution_count": 28
        }
      ]
    },
    {
      "cell_type": "markdown",
      "metadata": {
        "id": "RaJ5-131GMNE",
        "colab_type": "text"
      },
      "source": [
        "**Testing for 50 Patients in 30 Days by Extending Overtime by 15 minutes and Changing the Number of Staffs and Doctors**"
      ]
    },
    {
      "cell_type": "code",
      "metadata": {
        "id": "4iFNAZtjWeyj",
        "colab_type": "code",
        "outputId": "ca2f2cd0-ec24-4f04-9720-7a7b98f5873b",
        "colab": {
          "base_uri": "https://localhost:8080/",
          "height": 114
        }
      },
      "source": [
        "np.random.seed(1)\n",
        "simulation_stats(registration_staffs=2, doctors=2, slots=50, days=30, close_at='15:30:00')"
      ],
      "execution_count": 0,
      "outputs": [
        {
          "output_type": "stream",
          "text": [
            "100%|██████████| 30/30 [00:07<00:00,  3.73it/s]\n"
          ],
          "name": "stderr"
        },
        {
          "output_type": "execute_result",
          "data": {
            "text/html": [
              "<div>\n",
              "<style scoped>\n",
              "    .dataframe tbody tr th:only-of-type {\n",
              "        vertical-align: middle;\n",
              "    }\n",
              "\n",
              "    .dataframe tbody tr th {\n",
              "        vertical-align: top;\n",
              "    }\n",
              "\n",
              "    .dataframe thead th {\n",
              "        text-align: right;\n",
              "    }\n",
              "</style>\n",
              "<table border=\"1\" class=\"dataframe\">\n",
              "  <thead>\n",
              "    <tr style=\"text-align: right;\">\n",
              "      <th></th>\n",
              "      <th>Mean Open Time</th>\n",
              "      <th>Total OT Time</th>\n",
              "      <th>Total Staff OT Fees</th>\n",
              "      <th>Total Doctor OT Fees</th>\n",
              "      <th>Total Extra Staff Fees</th>\n",
              "      <th>Total Extra Doctor Fees</th>\n",
              "      <th>Mean Registration Waiting Time</th>\n",
              "      <th>Mean Consultation Waiting Time</th>\n",
              "    </tr>\n",
              "  </thead>\n",
              "  <tbody>\n",
              "    <tr>\n",
              "      <th>0</th>\n",
              "      <td>07:22:10</td>\n",
              "      <td>175.0</td>\n",
              "      <td>163.333333</td>\n",
              "      <td>700.0</td>\n",
              "      <td>2700.0</td>\n",
              "      <td>11250.0</td>\n",
              "      <td>0.0</td>\n",
              "      <td>0.07</td>\n",
              "    </tr>\n",
              "  </tbody>\n",
              "</table>\n",
              "</div>"
            ],
            "text/plain": [
              "  Mean Open Time  ...  Mean Consultation Waiting Time\n",
              "0       07:22:10  ...                            0.07\n",
              "\n",
              "[1 rows x 8 columns]"
            ]
          },
          "metadata": {
            "tags": []
          },
          "execution_count": 33
        }
      ]
    }
  ]
}