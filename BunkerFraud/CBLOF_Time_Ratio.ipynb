{
  "nbformat": 4,
  "nbformat_minor": 0,
  "metadata": {
    "kernelspec": {
      "display_name": "Python 3",
      "language": "python",
      "name": "python3"
    },
    "language_info": {
      "codemirror_mode": {
        "name": "ipython",
        "version": 3
      },
      "file_extension": ".py",
      "mimetype": "text/x-python",
      "name": "python",
      "nbconvert_exporter": "python",
      "pygments_lexer": "ipython3",
      "version": "3.7.4"
    },
    "colab": {
      "name": "CBLOF Time Ratio with EDA.ipynb",
      "provenance": [],
      "collapsed_sections": [],
      "toc_visible": true
    }
  },
  "cells": [
    {
      "cell_type": "code",
      "metadata": {
        "id": "AlF8XSGMNPR3",
        "colab_type": "code",
        "colab": {}
      },
      "source": [
        "import pandas as pd\n",
        "import time\n",
        "import re\n",
        "import numpy as np"
      ],
      "execution_count": 0,
      "outputs": []
    },
    {
      "cell_type": "code",
      "metadata": {
        "id": "n4JTz_U0F-Im",
        "colab_type": "code",
        "outputId": "f64d2670-b031-422e-e165-706a470a3b2b",
        "colab": {
          "base_uri": "https://localhost:8080/",
          "height": 122
        }
      },
      "source": [
        "from google.colab import drive\n",
        "drive.mount(\"/content/drive\", force_remount = True)"
      ],
      "execution_count": 0,
      "outputs": [
        {
          "output_type": "stream",
          "text": [
            "Go to this URL in a browser: https://accounts.google.com/o/oauth2/auth?client_id=947318989803-6bn6qk8qdgf4n4g3pfee6491hc0brc4i.apps.googleusercontent.com&redirect_uri=urn%3aietf%3awg%3aoauth%3a2.0%3aoob&response_type=code&scope=email%20https%3a%2f%2fwww.googleapis.com%2fauth%2fdocs.test%20https%3a%2f%2fwww.googleapis.com%2fauth%2fdrive%20https%3a%2f%2fwww.googleapis.com%2fauth%2fdrive.photos.readonly%20https%3a%2f%2fwww.googleapis.com%2fauth%2fpeopleapi.readonly\n",
            "\n",
            "Enter your authorization code:\n",
            "··········\n",
            "Mounted at /content/drive\n"
          ],
          "name": "stdout"
        }
      ]
    },
    {
      "cell_type": "code",
      "metadata": {
        "id": "b3axRJBFNPSF",
        "colab_type": "code",
        "colab": {}
      },
      "source": [
        "data_path = '/content/drive/My Drive/DSA4261 Supply Chain and Logistics/Project 1 Data /2017/'\n",
        "\n",
        "def get_data(data_path,year,month,zone):\n",
        "    data = pd.read_csv(data_path + \"ais_southern_ships_{}_{}_zone{}_reduce.csv\".format(str(year),str(month),str(zone)))\n",
        "    return data\n",
        "\n",
        "def get_yearly_data(data_path,year,zone):\n",
        "    df = pd.DataFrame()\n",
        "    for i in range(1,12):\n",
        "        data = get_data(data_path,str(year),\"%02d\" % i,str(zone))\n",
        "        df = pd.concat([df,data],axis=0)\n",
        "    return df"
      ],
      "execution_count": 0,
      "outputs": []
    },
    {
      "cell_type": "code",
      "metadata": {
        "id": "eQi8Z3VuNPSM",
        "colab_type": "code",
        "colab": {}
      },
      "source": [
        "df = get_yearly_data(data_path,2017,15)\n",
        "df = df.dropna(subset=['LAT','LON']).reset_index(drop=True)"
      ],
      "execution_count": 0,
      "outputs": []
    },
    {
      "cell_type": "code",
      "metadata": {
        "id": "ZnKfqZvnNPSS",
        "colab_type": "code",
        "colab": {}
      },
      "source": [
        "from datetime import datetime\n",
        "basedatetime_utc = df['BaseDateTime'].apply(lambda x: datetime.strptime(x,'%Y-%m-%dT%H:%M:%S.0000000Z'))\n",
        "basedatetime_unix = df['BaseDateTime'].apply(lambda x: datetime.strptime(x,'%Y-%m-%dT%H:%M:%S.0000000Z').timestamp())\n",
        "date = df['BaseDateTime'].apply(lambda x:x[:10])"
      ],
      "execution_count": 0,
      "outputs": []
    },
    {
      "cell_type": "code",
      "metadata": {
        "id": "FyZ4gXtqNPSZ",
        "colab_type": "code",
        "colab": {}
      },
      "source": [
        "df['BaseDateTime_UTC'] = basedatetime_utc\n",
        "df['BaseDateTime_UNIX'] = basedatetime_unix\n",
        "df['MMSI'] = df['MMSI'].astype(str)\n",
        "df['Date'] = date"
      ],
      "execution_count": 0,
      "outputs": []
    },
    {
      "cell_type": "code",
      "metadata": {
        "id": "8EXrt7EWNPSi",
        "colab_type": "code",
        "outputId": "bf65ea81-01cc-440f-ae47-db76eb48e668",
        "colab": {
          "base_uri": "https://localhost:8080/",
          "height": 609
        }
      },
      "source": [
        "df = df.sort_values(by=['MMSI','BaseDateTime_UTC'])\n",
        "df = df.reset_index(drop=True)\n",
        "df"
      ],
      "execution_count": 0,
      "outputs": [
        {
          "output_type": "execute_result",
          "data": {
            "text/html": [
              "<div>\n",
              "<style scoped>\n",
              "    .dataframe tbody tr th:only-of-type {\n",
              "        vertical-align: middle;\n",
              "    }\n",
              "\n",
              "    .dataframe tbody tr th {\n",
              "        vertical-align: top;\n",
              "    }\n",
              "\n",
              "    .dataframe thead th {\n",
              "        text-align: right;\n",
              "    }\n",
              "</style>\n",
              "<table border=\"1\" class=\"dataframe\">\n",
              "  <thead>\n",
              "    <tr style=\"text-align: right;\">\n",
              "      <th></th>\n",
              "      <th>MMSI</th>\n",
              "      <th>BaseDateTime</th>\n",
              "      <th>LAT</th>\n",
              "      <th>LON</th>\n",
              "      <th>SOG</th>\n",
              "      <th>COG</th>\n",
              "      <th>Heading</th>\n",
              "      <th>VesselName</th>\n",
              "      <th>IMO</th>\n",
              "      <th>CallSign</th>\n",
              "      <th>VesselType</th>\n",
              "      <th>Status</th>\n",
              "      <th>Length</th>\n",
              "      <th>Width</th>\n",
              "      <th>Draft</th>\n",
              "      <th>Cargo</th>\n",
              "      <th>BaseDateTime_UTC</th>\n",
              "      <th>BaseDateTime_UNIX</th>\n",
              "      <th>Date</th>\n",
              "    </tr>\n",
              "  </thead>\n",
              "  <tbody>\n",
              "    <tr>\n",
              "      <th>0</th>\n",
              "      <td>0</td>\n",
              "      <td>2017-01-24T08:27:12.0000000Z</td>\n",
              "      <td>18.12518</td>\n",
              "      <td>-94.41903</td>\n",
              "      <td>0.0</td>\n",
              "      <td>-195.6</td>\n",
              "      <td>214.0</td>\n",
              "      <td>NaN</td>\n",
              "      <td>NaN</td>\n",
              "      <td>NaN</td>\n",
              "      <td>0.0</td>\n",
              "      <td>undefined</td>\n",
              "      <td>0.0</td>\n",
              "      <td>0.0</td>\n",
              "      <td>0.0</td>\n",
              "      <td>0.0</td>\n",
              "      <td>2017-01-24 08:27:12</td>\n",
              "      <td>1.485246e+09</td>\n",
              "      <td>2017-01-24</td>\n",
              "    </tr>\n",
              "    <tr>\n",
              "      <th>1</th>\n",
              "      <td>0</td>\n",
              "      <td>2017-01-24T08:29:42.0000000Z</td>\n",
              "      <td>18.12518</td>\n",
              "      <td>-94.41903</td>\n",
              "      <td>0.0</td>\n",
              "      <td>-195.6</td>\n",
              "      <td>214.0</td>\n",
              "      <td>NaN</td>\n",
              "      <td>NaN</td>\n",
              "      <td>NaN</td>\n",
              "      <td>0.0</td>\n",
              "      <td>undefined</td>\n",
              "      <td>0.0</td>\n",
              "      <td>0.0</td>\n",
              "      <td>3.0</td>\n",
              "      <td>0.0</td>\n",
              "      <td>2017-01-24 08:29:42</td>\n",
              "      <td>1.485247e+09</td>\n",
              "      <td>2017-01-24</td>\n",
              "    </tr>\n",
              "    <tr>\n",
              "      <th>2</th>\n",
              "      <td>0</td>\n",
              "      <td>2017-01-24T08:47:42.0000000Z</td>\n",
              "      <td>18.12518</td>\n",
              "      <td>-94.41903</td>\n",
              "      <td>0.0</td>\n",
              "      <td>-195.7</td>\n",
              "      <td>214.0</td>\n",
              "      <td>NaN</td>\n",
              "      <td>NaN</td>\n",
              "      <td>NaN</td>\n",
              "      <td>0.0</td>\n",
              "      <td>undefined</td>\n",
              "      <td>0.0</td>\n",
              "      <td>0.0</td>\n",
              "      <td>3.0</td>\n",
              "      <td>0.0</td>\n",
              "      <td>2017-01-24 08:47:42</td>\n",
              "      <td>1.485248e+09</td>\n",
              "      <td>2017-01-24</td>\n",
              "    </tr>\n",
              "    <tr>\n",
              "      <th>3</th>\n",
              "      <td>0</td>\n",
              "      <td>2017-01-24T09:05:21.0000000Z</td>\n",
              "      <td>18.12519</td>\n",
              "      <td>-94.41902</td>\n",
              "      <td>0.0</td>\n",
              "      <td>-195.4</td>\n",
              "      <td>214.0</td>\n",
              "      <td>NaN</td>\n",
              "      <td>NaN</td>\n",
              "      <td>NaN</td>\n",
              "      <td>0.0</td>\n",
              "      <td>undefined</td>\n",
              "      <td>0.0</td>\n",
              "      <td>0.0</td>\n",
              "      <td>3.0</td>\n",
              "      <td>0.0</td>\n",
              "      <td>2017-01-24 09:05:21</td>\n",
              "      <td>1.485249e+09</td>\n",
              "      <td>2017-01-24</td>\n",
              "    </tr>\n",
              "    <tr>\n",
              "      <th>4</th>\n",
              "      <td>0</td>\n",
              "      <td>2017-01-24T20:56:52.0000000Z</td>\n",
              "      <td>18.79671</td>\n",
              "      <td>-93.43659</td>\n",
              "      <td>11.8</td>\n",
              "      <td>58.5</td>\n",
              "      <td>59.0</td>\n",
              "      <td>NaN</td>\n",
              "      <td>NaN</td>\n",
              "      <td>NaN</td>\n",
              "      <td>0.0</td>\n",
              "      <td>undefined</td>\n",
              "      <td>0.0</td>\n",
              "      <td>0.0</td>\n",
              "      <td>3.0</td>\n",
              "      <td>0.0</td>\n",
              "      <td>2017-01-24 20:56:52</td>\n",
              "      <td>1.485291e+09</td>\n",
              "      <td>2017-01-24</td>\n",
              "    </tr>\n",
              "    <tr>\n",
              "      <th>...</th>\n",
              "      <td>...</td>\n",
              "      <td>...</td>\n",
              "      <td>...</td>\n",
              "      <td>...</td>\n",
              "      <td>...</td>\n",
              "      <td>...</td>\n",
              "      <td>...</td>\n",
              "      <td>...</td>\n",
              "      <td>...</td>\n",
              "      <td>...</td>\n",
              "      <td>...</td>\n",
              "      <td>...</td>\n",
              "      <td>...</td>\n",
              "      <td>...</td>\n",
              "      <td>...</td>\n",
              "      <td>...</td>\n",
              "      <td>...</td>\n",
              "      <td>...</td>\n",
              "      <td>...</td>\n",
              "    </tr>\n",
              "    <tr>\n",
              "      <th>1028820</th>\n",
              "      <td>999999999</td>\n",
              "      <td>2017-09-15T05:31:09.0000000Z</td>\n",
              "      <td>18.98631</td>\n",
              "      <td>-95.88587</td>\n",
              "      <td>14.1</td>\n",
              "      <td>136.9</td>\n",
              "      <td>135.0</td>\n",
              "      <td>62 MCKINNA</td>\n",
              "      <td>NaN</td>\n",
              "      <td>NaN</td>\n",
              "      <td>30.0</td>\n",
              "      <td>undefined</td>\n",
              "      <td>0.0</td>\n",
              "      <td>0.0</td>\n",
              "      <td>0.0</td>\n",
              "      <td>55.0</td>\n",
              "      <td>2017-09-15 05:31:09</td>\n",
              "      <td>1.505453e+09</td>\n",
              "      <td>2017-09-15</td>\n",
              "    </tr>\n",
              "    <tr>\n",
              "      <th>1028821</th>\n",
              "      <td>999999999</td>\n",
              "      <td>2017-09-15T05:32:27.0000000Z</td>\n",
              "      <td>18.98256</td>\n",
              "      <td>-95.88216</td>\n",
              "      <td>14.1</td>\n",
              "      <td>137.3</td>\n",
              "      <td>135.0</td>\n",
              "      <td>62 MCKINNA</td>\n",
              "      <td>NaN</td>\n",
              "      <td>NaN</td>\n",
              "      <td>30.0</td>\n",
              "      <td>undefined</td>\n",
              "      <td>0.0</td>\n",
              "      <td>0.0</td>\n",
              "      <td>0.0</td>\n",
              "      <td>55.0</td>\n",
              "      <td>2017-09-15 05:32:27</td>\n",
              "      <td>1.505454e+09</td>\n",
              "      <td>2017-09-15</td>\n",
              "    </tr>\n",
              "    <tr>\n",
              "      <th>1028822</th>\n",
              "      <td>999999999</td>\n",
              "      <td>2017-09-15T05:34:09.0000000Z</td>\n",
              "      <td>18.98084</td>\n",
              "      <td>-95.87597</td>\n",
              "      <td>14.1</td>\n",
              "      <td>76.4</td>\n",
              "      <td>78.0</td>\n",
              "      <td>62 MCKINNA</td>\n",
              "      <td>NaN</td>\n",
              "      <td>NaN</td>\n",
              "      <td>30.0</td>\n",
              "      <td>undefined</td>\n",
              "      <td>0.0</td>\n",
              "      <td>0.0</td>\n",
              "      <td>0.0</td>\n",
              "      <td>55.0</td>\n",
              "      <td>2017-09-15 05:34:09</td>\n",
              "      <td>1.505454e+09</td>\n",
              "      <td>2017-09-15</td>\n",
              "    </tr>\n",
              "    <tr>\n",
              "      <th>1028823</th>\n",
              "      <td>999999999</td>\n",
              "      <td>2017-09-15T05:38:16.0000000Z</td>\n",
              "      <td>18.98562</td>\n",
              "      <td>-95.85971</td>\n",
              "      <td>14.3</td>\n",
              "      <td>73.3</td>\n",
              "      <td>76.0</td>\n",
              "      <td>62 MCKINNA</td>\n",
              "      <td>NaN</td>\n",
              "      <td>NaN</td>\n",
              "      <td>30.0</td>\n",
              "      <td>undefined</td>\n",
              "      <td>0.0</td>\n",
              "      <td>0.0</td>\n",
              "      <td>0.0</td>\n",
              "      <td>55.0</td>\n",
              "      <td>2017-09-15 05:38:16</td>\n",
              "      <td>1.505454e+09</td>\n",
              "      <td>2017-09-15</td>\n",
              "    </tr>\n",
              "    <tr>\n",
              "      <th>1028824</th>\n",
              "      <td>999999999</td>\n",
              "      <td>2017-09-15T05:41:34.0000000Z</td>\n",
              "      <td>18.98928</td>\n",
              "      <td>-95.84659</td>\n",
              "      <td>14.0</td>\n",
              "      <td>73.6</td>\n",
              "      <td>76.0</td>\n",
              "      <td>62 MCKINNA</td>\n",
              "      <td>NaN</td>\n",
              "      <td>NaN</td>\n",
              "      <td>30.0</td>\n",
              "      <td>undefined</td>\n",
              "      <td>0.0</td>\n",
              "      <td>0.0</td>\n",
              "      <td>0.0</td>\n",
              "      <td>55.0</td>\n",
              "      <td>2017-09-15 05:41:34</td>\n",
              "      <td>1.505454e+09</td>\n",
              "      <td>2017-09-15</td>\n",
              "    </tr>\n",
              "  </tbody>\n",
              "</table>\n",
              "<p>1028825 rows × 19 columns</p>\n",
              "</div>"
            ],
            "text/plain": [
              "              MMSI                  BaseDateTime  ...  BaseDateTime_UNIX        Date\n",
              "0                0  2017-01-24T08:27:12.0000000Z  ...       1.485246e+09  2017-01-24\n",
              "1                0  2017-01-24T08:29:42.0000000Z  ...       1.485247e+09  2017-01-24\n",
              "2                0  2017-01-24T08:47:42.0000000Z  ...       1.485248e+09  2017-01-24\n",
              "3                0  2017-01-24T09:05:21.0000000Z  ...       1.485249e+09  2017-01-24\n",
              "4                0  2017-01-24T20:56:52.0000000Z  ...       1.485291e+09  2017-01-24\n",
              "...            ...                           ...  ...                ...         ...\n",
              "1028820  999999999  2017-09-15T05:31:09.0000000Z  ...       1.505453e+09  2017-09-15\n",
              "1028821  999999999  2017-09-15T05:32:27.0000000Z  ...       1.505454e+09  2017-09-15\n",
              "1028822  999999999  2017-09-15T05:34:09.0000000Z  ...       1.505454e+09  2017-09-15\n",
              "1028823  999999999  2017-09-15T05:38:16.0000000Z  ...       1.505454e+09  2017-09-15\n",
              "1028824  999999999  2017-09-15T05:41:34.0000000Z  ...       1.505454e+09  2017-09-15\n",
              "\n",
              "[1028825 rows x 19 columns]"
            ]
          },
          "metadata": {
            "tags": []
          },
          "execution_count": 55
        }
      ]
    },
    {
      "cell_type": "markdown",
      "metadata": {
        "id": "FnW38pv6NPSu",
        "colab_type": "text"
      },
      "source": [
        "**Mapping VesselTypeCode to VesselType?**\n",
        "*Fishing, Tanker, Tug Tow, Cargo, etc..*"
      ]
    },
    {
      "cell_type": "code",
      "metadata": {
        "id": "nodQCQ4KNPSw",
        "colab_type": "code",
        "colab": {}
      },
      "source": [
        "vessel_info_df = pd.read_csv('/content/drive/My Drive/DSA4261 Supply Chain and Logistics/Project 1 Data /VesselTypeCodes.csv')\n",
        "vessel_info_dict = {}\n",
        "for i in range(0,len(vessel_info_df)):\n",
        "    vesselcode = float(vessel_info_df['VesselType'][i])\n",
        "    vesselgroup = vessel_info_df['VesselGroup'][i]\n",
        "    vessel_info_dict[vesselcode] = vesselgroup"
      ],
      "execution_count": 0,
      "outputs": []
    },
    {
      "cell_type": "code",
      "metadata": {
        "id": "9NfIzkpNNPS4",
        "colab_type": "code",
        "colab": {}
      },
      "source": [
        "df['VesselType_New'] = df['VesselType'].map(vessel_info_dict)"
      ],
      "execution_count": 0,
      "outputs": []
    },
    {
      "cell_type": "code",
      "metadata": {
        "id": "RBKjYtFzNPS8",
        "colab_type": "code",
        "outputId": "dd6f7f65-22ad-4add-8874-2b99121f9baf",
        "colab": {
          "base_uri": "https://localhost:8080/",
          "height": 213
        }
      },
      "source": [
        "df.head(3)"
      ],
      "execution_count": 0,
      "outputs": [
        {
          "output_type": "execute_result",
          "data": {
            "text/html": [
              "<div>\n",
              "<style scoped>\n",
              "    .dataframe tbody tr th:only-of-type {\n",
              "        vertical-align: middle;\n",
              "    }\n",
              "\n",
              "    .dataframe tbody tr th {\n",
              "        vertical-align: top;\n",
              "    }\n",
              "\n",
              "    .dataframe thead th {\n",
              "        text-align: right;\n",
              "    }\n",
              "</style>\n",
              "<table border=\"1\" class=\"dataframe\">\n",
              "  <thead>\n",
              "    <tr style=\"text-align: right;\">\n",
              "      <th></th>\n",
              "      <th>MMSI</th>\n",
              "      <th>BaseDateTime</th>\n",
              "      <th>LAT</th>\n",
              "      <th>LON</th>\n",
              "      <th>SOG</th>\n",
              "      <th>COG</th>\n",
              "      <th>Heading</th>\n",
              "      <th>VesselName</th>\n",
              "      <th>IMO</th>\n",
              "      <th>CallSign</th>\n",
              "      <th>VesselType</th>\n",
              "      <th>Status</th>\n",
              "      <th>Length</th>\n",
              "      <th>Width</th>\n",
              "      <th>Draft</th>\n",
              "      <th>Cargo</th>\n",
              "      <th>BaseDateTime_UTC</th>\n",
              "      <th>BaseDateTime_UNIX</th>\n",
              "      <th>Date</th>\n",
              "      <th>VesselType_New</th>\n",
              "    </tr>\n",
              "  </thead>\n",
              "  <tbody>\n",
              "    <tr>\n",
              "      <th>0</th>\n",
              "      <td>0</td>\n",
              "      <td>2017-01-24T08:27:12.0000000Z</td>\n",
              "      <td>18.12518</td>\n",
              "      <td>-94.41903</td>\n",
              "      <td>0.0</td>\n",
              "      <td>-195.6</td>\n",
              "      <td>214.0</td>\n",
              "      <td>NaN</td>\n",
              "      <td>NaN</td>\n",
              "      <td>NaN</td>\n",
              "      <td>0.0</td>\n",
              "      <td>undefined</td>\n",
              "      <td>0.0</td>\n",
              "      <td>0.0</td>\n",
              "      <td>0.0</td>\n",
              "      <td>0.0</td>\n",
              "      <td>2017-01-24 08:27:12</td>\n",
              "      <td>1.485246e+09</td>\n",
              "      <td>2017-01-24</td>\n",
              "      <td>Not Available</td>\n",
              "    </tr>\n",
              "    <tr>\n",
              "      <th>1</th>\n",
              "      <td>0</td>\n",
              "      <td>2017-01-24T08:29:42.0000000Z</td>\n",
              "      <td>18.12518</td>\n",
              "      <td>-94.41903</td>\n",
              "      <td>0.0</td>\n",
              "      <td>-195.6</td>\n",
              "      <td>214.0</td>\n",
              "      <td>NaN</td>\n",
              "      <td>NaN</td>\n",
              "      <td>NaN</td>\n",
              "      <td>0.0</td>\n",
              "      <td>undefined</td>\n",
              "      <td>0.0</td>\n",
              "      <td>0.0</td>\n",
              "      <td>3.0</td>\n",
              "      <td>0.0</td>\n",
              "      <td>2017-01-24 08:29:42</td>\n",
              "      <td>1.485247e+09</td>\n",
              "      <td>2017-01-24</td>\n",
              "      <td>Not Available</td>\n",
              "    </tr>\n",
              "    <tr>\n",
              "      <th>2</th>\n",
              "      <td>0</td>\n",
              "      <td>2017-01-24T08:47:42.0000000Z</td>\n",
              "      <td>18.12518</td>\n",
              "      <td>-94.41903</td>\n",
              "      <td>0.0</td>\n",
              "      <td>-195.7</td>\n",
              "      <td>214.0</td>\n",
              "      <td>NaN</td>\n",
              "      <td>NaN</td>\n",
              "      <td>NaN</td>\n",
              "      <td>0.0</td>\n",
              "      <td>undefined</td>\n",
              "      <td>0.0</td>\n",
              "      <td>0.0</td>\n",
              "      <td>3.0</td>\n",
              "      <td>0.0</td>\n",
              "      <td>2017-01-24 08:47:42</td>\n",
              "      <td>1.485248e+09</td>\n",
              "      <td>2017-01-24</td>\n",
              "      <td>Not Available</td>\n",
              "    </tr>\n",
              "  </tbody>\n",
              "</table>\n",
              "</div>"
            ],
            "text/plain": [
              "  MMSI                  BaseDateTime  ...        Date  VesselType_New\n",
              "0    0  2017-01-24T08:27:12.0000000Z  ...  2017-01-24   Not Available\n",
              "1    0  2017-01-24T08:29:42.0000000Z  ...  2017-01-24   Not Available\n",
              "2    0  2017-01-24T08:47:42.0000000Z  ...  2017-01-24   Not Available\n",
              "\n",
              "[3 rows x 20 columns]"
            ]
          },
          "metadata": {
            "tags": []
          },
          "execution_count": 58
        }
      ]
    },
    {
      "cell_type": "markdown",
      "metadata": {
        "id": "dqRJmhZVNPTM",
        "colab_type": "text"
      },
      "source": [
        "**Function to get standard AIS transmission rate**"
      ]
    },
    {
      "cell_type": "code",
      "metadata": {
        "id": "ZJS6BroUNPTP",
        "colab_type": "code",
        "colab": {}
      },
      "source": [
        "def get_ais_transmission_rate(sog, cog, status):\n",
        "    rate = 0\n",
        "    if status == 'at anchor' or status == 'moored':\n",
        "        rate = 3*60\n",
        "    elif sog <= 14 and cog == 0:\n",
        "        rate = 10\n",
        "    elif 14 < sog <= 23 and cog == 0:\n",
        "        rate = 6\n",
        "    elif sog <= 14 and cog != 0:\n",
        "        rate = 3.33\n",
        "    elif 14 < sog <= 23 and cog != 0:\n",
        "        rate = 2\n",
        "    elif sog > 23 and cog ==0:\n",
        "        rate = 2\n",
        "    elif sog > 23 and cog !=0:\n",
        "        rate = 2\n",
        "    else:\n",
        "        rate = 100000000000\n",
        "    return rate"
      ],
      "execution_count": 0,
      "outputs": []
    },
    {
      "cell_type": "markdown",
      "metadata": {
        "id": "6vlZ7ixhNPTW",
        "colab_type": "text"
      },
      "source": [
        "**Function to get timediff between current point and previous point**"
      ]
    },
    {
      "cell_type": "code",
      "metadata": {
        "id": "2W17DB8jNPTY",
        "colab_type": "code",
        "colab": {}
      },
      "source": [
        "from datetime import datetime, timedelta\n",
        "\n",
        "def time_diff_in_seconds(t1,t2):\n",
        "    if t1 > t2:\n",
        "        diff = (t1 - t2).total_seconds()\n",
        "    elif t2 > t1:\n",
        "        diff = (t2 - t1).total_seconds()\n",
        "    elif t2 == t1:\n",
        "        diff = 0\n",
        "    return diff"
      ],
      "execution_count": 0,
      "outputs": []
    },
    {
      "cell_type": "code",
      "metadata": {
        "id": "lnoQuO2syuD6",
        "colab_type": "code",
        "colab": {}
      },
      "source": [
        "df.to_csv('2017_zone15.csv',index=False)"
      ],
      "execution_count": 0,
      "outputs": []
    },
    {
      "cell_type": "code",
      "metadata": {
        "id": "X61qLTcKNPTf",
        "colab_type": "code",
        "outputId": "2d611f2d-0cc5-42b1-d369-3062f121c662",
        "colab": {
          "base_uri": "https://localhost:8080/",
          "height": 102
        }
      },
      "source": [
        "mmsis = df['MMSI'].unique().tolist()\n",
        "groupings = df.groupby('MMSI')\n",
        "new_df = pd.DataFrame()\n",
        "for mm in mmsis:\n",
        "    group = groupings.get_group(mm).reset_index(drop=True)\n",
        "    group['TimeDiff'] = np.zeros(len(group))\n",
        "    for j in range(1,len(group)):\n",
        "        t1 = group['BaseDateTime_UTC'][j]\n",
        "        t2 = group['BaseDateTime_UTC'][j-1]\n",
        "        td = time_diff_in_seconds(t1,t2)\n",
        "        group['TimeDiff'][j] = td\n",
        "    new_df = pd.concat([new_df,group],axis=0)"
      ],
      "execution_count": 0,
      "outputs": [
        {
          "output_type": "stream",
          "text": [
            "/usr/local/lib/python3.6/dist-packages/ipykernel_launcher.py:11: SettingWithCopyWarning: \n",
            "A value is trying to be set on a copy of a slice from a DataFrame\n",
            "\n",
            "See the caveats in the documentation: http://pandas.pydata.org/pandas-docs/stable/user_guide/indexing.html#returning-a-view-versus-a-copy\n",
            "  # This is added back by InteractiveShellApp.init_path()\n"
          ],
          "name": "stderr"
        }
      ]
    },
    {
      "cell_type": "code",
      "metadata": {
        "id": "yHu-51eF37a5",
        "colab_type": "code",
        "colab": {}
      },
      "source": [
        "new_df.to_csv('2017_zone15_with_timediff.csv',index=False)"
      ],
      "execution_count": 0,
      "outputs": []
    },
    {
      "cell_type": "code",
      "metadata": {
        "id": "K4yBV2UENPTo",
        "colab_type": "code",
        "outputId": "963ba5dd-71d5-4913-fcbf-0bc1443f90de",
        "colab": {
          "base_uri": "https://localhost:8080/",
          "height": 309
        }
      },
      "source": [
        "new_df.head()"
      ],
      "execution_count": 0,
      "outputs": [
        {
          "output_type": "execute_result",
          "data": {
            "text/html": [
              "<div>\n",
              "<style scoped>\n",
              "    .dataframe tbody tr th:only-of-type {\n",
              "        vertical-align: middle;\n",
              "    }\n",
              "\n",
              "    .dataframe tbody tr th {\n",
              "        vertical-align: top;\n",
              "    }\n",
              "\n",
              "    .dataframe thead th {\n",
              "        text-align: right;\n",
              "    }\n",
              "</style>\n",
              "<table border=\"1\" class=\"dataframe\">\n",
              "  <thead>\n",
              "    <tr style=\"text-align: right;\">\n",
              "      <th></th>\n",
              "      <th>MMSI</th>\n",
              "      <th>BaseDateTime</th>\n",
              "      <th>LAT</th>\n",
              "      <th>LON</th>\n",
              "      <th>SOG</th>\n",
              "      <th>COG</th>\n",
              "      <th>Heading</th>\n",
              "      <th>VesselName</th>\n",
              "      <th>IMO</th>\n",
              "      <th>CallSign</th>\n",
              "      <th>VesselType</th>\n",
              "      <th>Status</th>\n",
              "      <th>Length</th>\n",
              "      <th>Width</th>\n",
              "      <th>Draft</th>\n",
              "      <th>Cargo</th>\n",
              "      <th>BaseDateTime_UTC</th>\n",
              "      <th>BaseDateTime_UNIX</th>\n",
              "      <th>Date</th>\n",
              "      <th>VesselType_New</th>\n",
              "      <th>TimeDiff</th>\n",
              "    </tr>\n",
              "  </thead>\n",
              "  <tbody>\n",
              "    <tr>\n",
              "      <th>0</th>\n",
              "      <td>0</td>\n",
              "      <td>2017-01-24T08:27:12.0000000Z</td>\n",
              "      <td>18.12518</td>\n",
              "      <td>-94.41903</td>\n",
              "      <td>0.0</td>\n",
              "      <td>-195.6</td>\n",
              "      <td>214.0</td>\n",
              "      <td>NaN</td>\n",
              "      <td>NaN</td>\n",
              "      <td>NaN</td>\n",
              "      <td>0.0</td>\n",
              "      <td>undefined</td>\n",
              "      <td>0.0</td>\n",
              "      <td>0.0</td>\n",
              "      <td>0.0</td>\n",
              "      <td>0.0</td>\n",
              "      <td>2017-01-24 08:27:12</td>\n",
              "      <td>1.485246e+09</td>\n",
              "      <td>2017-01-24</td>\n",
              "      <td>Not Available</td>\n",
              "      <td>0.0</td>\n",
              "    </tr>\n",
              "    <tr>\n",
              "      <th>1</th>\n",
              "      <td>0</td>\n",
              "      <td>2017-01-24T08:29:42.0000000Z</td>\n",
              "      <td>18.12518</td>\n",
              "      <td>-94.41903</td>\n",
              "      <td>0.0</td>\n",
              "      <td>-195.6</td>\n",
              "      <td>214.0</td>\n",
              "      <td>NaN</td>\n",
              "      <td>NaN</td>\n",
              "      <td>NaN</td>\n",
              "      <td>0.0</td>\n",
              "      <td>undefined</td>\n",
              "      <td>0.0</td>\n",
              "      <td>0.0</td>\n",
              "      <td>3.0</td>\n",
              "      <td>0.0</td>\n",
              "      <td>2017-01-24 08:29:42</td>\n",
              "      <td>1.485247e+09</td>\n",
              "      <td>2017-01-24</td>\n",
              "      <td>Not Available</td>\n",
              "      <td>150.0</td>\n",
              "    </tr>\n",
              "    <tr>\n",
              "      <th>2</th>\n",
              "      <td>0</td>\n",
              "      <td>2017-01-24T08:47:42.0000000Z</td>\n",
              "      <td>18.12518</td>\n",
              "      <td>-94.41903</td>\n",
              "      <td>0.0</td>\n",
              "      <td>-195.7</td>\n",
              "      <td>214.0</td>\n",
              "      <td>NaN</td>\n",
              "      <td>NaN</td>\n",
              "      <td>NaN</td>\n",
              "      <td>0.0</td>\n",
              "      <td>undefined</td>\n",
              "      <td>0.0</td>\n",
              "      <td>0.0</td>\n",
              "      <td>3.0</td>\n",
              "      <td>0.0</td>\n",
              "      <td>2017-01-24 08:47:42</td>\n",
              "      <td>1.485248e+09</td>\n",
              "      <td>2017-01-24</td>\n",
              "      <td>Not Available</td>\n",
              "      <td>1080.0</td>\n",
              "    </tr>\n",
              "    <tr>\n",
              "      <th>3</th>\n",
              "      <td>0</td>\n",
              "      <td>2017-01-24T09:05:21.0000000Z</td>\n",
              "      <td>18.12519</td>\n",
              "      <td>-94.41902</td>\n",
              "      <td>0.0</td>\n",
              "      <td>-195.4</td>\n",
              "      <td>214.0</td>\n",
              "      <td>NaN</td>\n",
              "      <td>NaN</td>\n",
              "      <td>NaN</td>\n",
              "      <td>0.0</td>\n",
              "      <td>undefined</td>\n",
              "      <td>0.0</td>\n",
              "      <td>0.0</td>\n",
              "      <td>3.0</td>\n",
              "      <td>0.0</td>\n",
              "      <td>2017-01-24 09:05:21</td>\n",
              "      <td>1.485249e+09</td>\n",
              "      <td>2017-01-24</td>\n",
              "      <td>Not Available</td>\n",
              "      <td>1059.0</td>\n",
              "    </tr>\n",
              "    <tr>\n",
              "      <th>4</th>\n",
              "      <td>0</td>\n",
              "      <td>2017-01-24T20:56:52.0000000Z</td>\n",
              "      <td>18.79671</td>\n",
              "      <td>-93.43659</td>\n",
              "      <td>11.8</td>\n",
              "      <td>58.5</td>\n",
              "      <td>59.0</td>\n",
              "      <td>NaN</td>\n",
              "      <td>NaN</td>\n",
              "      <td>NaN</td>\n",
              "      <td>0.0</td>\n",
              "      <td>undefined</td>\n",
              "      <td>0.0</td>\n",
              "      <td>0.0</td>\n",
              "      <td>3.0</td>\n",
              "      <td>0.0</td>\n",
              "      <td>2017-01-24 20:56:52</td>\n",
              "      <td>1.485291e+09</td>\n",
              "      <td>2017-01-24</td>\n",
              "      <td>Not Available</td>\n",
              "      <td>42691.0</td>\n",
              "    </tr>\n",
              "  </tbody>\n",
              "</table>\n",
              "</div>"
            ],
            "text/plain": [
              "  MMSI                  BaseDateTime  ...  VesselType_New  TimeDiff\n",
              "0    0  2017-01-24T08:27:12.0000000Z  ...   Not Available       0.0\n",
              "1    0  2017-01-24T08:29:42.0000000Z  ...   Not Available     150.0\n",
              "2    0  2017-01-24T08:47:42.0000000Z  ...   Not Available    1080.0\n",
              "3    0  2017-01-24T09:05:21.0000000Z  ...   Not Available    1059.0\n",
              "4    0  2017-01-24T20:56:52.0000000Z  ...   Not Available   42691.0\n",
              "\n",
              "[5 rows x 21 columns]"
            ]
          },
          "metadata": {
            "tags": []
          },
          "execution_count": 66
        }
      ]
    },
    {
      "cell_type": "code",
      "metadata": {
        "id": "CYcmZqSpGgte",
        "colab_type": "code",
        "outputId": "0d27dfbe-30f4-445d-95d5-ee7f94261db9",
        "colab": {
          "base_uri": "https://localhost:8080/",
          "height": 102
        }
      },
      "source": [
        "mmsis = new_df['MMSI'].unique().tolist()\n",
        "groupings = new_df.groupby('MMSI')\n",
        "new_df_ratio = pd.DataFrame()\n",
        "for mm in mmsis:\n",
        "    group = groupings.get_group(mm).reset_index(drop=True)\n",
        "    group['TimeDiffRatio'] = np.zeros(len(group))\n",
        "    for j in range(1,len(group)):\n",
        "        tdr = group['TimeDiff'][j]/group['TimeDiff'].sum()\n",
        "        group['TimeDiffRatio'][j] = tdr\n",
        "    new_df_ratio = pd.concat([new_df_ratio,group],axis=0)"
      ],
      "execution_count": 0,
      "outputs": [
        {
          "output_type": "stream",
          "text": [
            "/usr/local/lib/python3.6/dist-packages/ipykernel_launcher.py:9: SettingWithCopyWarning: \n",
            "A value is trying to be set on a copy of a slice from a DataFrame\n",
            "\n",
            "See the caveats in the documentation: http://pandas.pydata.org/pandas-docs/stable/user_guide/indexing.html#returning-a-view-versus-a-copy\n",
            "  if __name__ == '__main__':\n"
          ],
          "name": "stderr"
        }
      ]
    },
    {
      "cell_type": "code",
      "metadata": {
        "id": "abxjUeaLJ-_A",
        "colab_type": "code",
        "outputId": "2c2de378-fc7a-4c8c-951c-a12f52a5a916",
        "colab": {
          "base_uri": "https://localhost:8080/",
          "height": 309
        }
      },
      "source": [
        "new_df_ratio.head()"
      ],
      "execution_count": 0,
      "outputs": [
        {
          "output_type": "execute_result",
          "data": {
            "text/html": [
              "<div>\n",
              "<style scoped>\n",
              "    .dataframe tbody tr th:only-of-type {\n",
              "        vertical-align: middle;\n",
              "    }\n",
              "\n",
              "    .dataframe tbody tr th {\n",
              "        vertical-align: top;\n",
              "    }\n",
              "\n",
              "    .dataframe thead th {\n",
              "        text-align: right;\n",
              "    }\n",
              "</style>\n",
              "<table border=\"1\" class=\"dataframe\">\n",
              "  <thead>\n",
              "    <tr style=\"text-align: right;\">\n",
              "      <th></th>\n",
              "      <th>MMSI</th>\n",
              "      <th>BaseDateTime</th>\n",
              "      <th>LAT</th>\n",
              "      <th>LON</th>\n",
              "      <th>SOG</th>\n",
              "      <th>COG</th>\n",
              "      <th>Heading</th>\n",
              "      <th>VesselName</th>\n",
              "      <th>IMO</th>\n",
              "      <th>CallSign</th>\n",
              "      <th>VesselType</th>\n",
              "      <th>Status</th>\n",
              "      <th>Length</th>\n",
              "      <th>Width</th>\n",
              "      <th>Draft</th>\n",
              "      <th>Cargo</th>\n",
              "      <th>BaseDateTime_UTC</th>\n",
              "      <th>BaseDateTime_UNIX</th>\n",
              "      <th>Date</th>\n",
              "      <th>VesselType_New</th>\n",
              "      <th>TimeDiff</th>\n",
              "      <th>TimeDiffRatio</th>\n",
              "    </tr>\n",
              "  </thead>\n",
              "  <tbody>\n",
              "    <tr>\n",
              "      <th>0</th>\n",
              "      <td>0</td>\n",
              "      <td>2017-01-24T08:27:12.0000000Z</td>\n",
              "      <td>18.12518</td>\n",
              "      <td>-94.41903</td>\n",
              "      <td>0.0</td>\n",
              "      <td>-195.6</td>\n",
              "      <td>214.0</td>\n",
              "      <td>NaN</td>\n",
              "      <td>NaN</td>\n",
              "      <td>NaN</td>\n",
              "      <td>0.0</td>\n",
              "      <td>undefined</td>\n",
              "      <td>0.0</td>\n",
              "      <td>0.0</td>\n",
              "      <td>0.0</td>\n",
              "      <td>0.0</td>\n",
              "      <td>2017-01-24 08:27:12</td>\n",
              "      <td>1.485246e+09</td>\n",
              "      <td>2017-01-24</td>\n",
              "      <td>Not Available</td>\n",
              "      <td>0.0</td>\n",
              "      <td>0.000000</td>\n",
              "    </tr>\n",
              "    <tr>\n",
              "      <th>1</th>\n",
              "      <td>0</td>\n",
              "      <td>2017-01-24T08:29:42.0000000Z</td>\n",
              "      <td>18.12518</td>\n",
              "      <td>-94.41903</td>\n",
              "      <td>0.0</td>\n",
              "      <td>-195.6</td>\n",
              "      <td>214.0</td>\n",
              "      <td>NaN</td>\n",
              "      <td>NaN</td>\n",
              "      <td>NaN</td>\n",
              "      <td>0.0</td>\n",
              "      <td>undefined</td>\n",
              "      <td>0.0</td>\n",
              "      <td>0.0</td>\n",
              "      <td>3.0</td>\n",
              "      <td>0.0</td>\n",
              "      <td>2017-01-24 08:29:42</td>\n",
              "      <td>1.485247e+09</td>\n",
              "      <td>2017-01-24</td>\n",
              "      <td>Not Available</td>\n",
              "      <td>150.0</td>\n",
              "      <td>0.000015</td>\n",
              "    </tr>\n",
              "    <tr>\n",
              "      <th>2</th>\n",
              "      <td>0</td>\n",
              "      <td>2017-01-24T08:47:42.0000000Z</td>\n",
              "      <td>18.12518</td>\n",
              "      <td>-94.41903</td>\n",
              "      <td>0.0</td>\n",
              "      <td>-195.7</td>\n",
              "      <td>214.0</td>\n",
              "      <td>NaN</td>\n",
              "      <td>NaN</td>\n",
              "      <td>NaN</td>\n",
              "      <td>0.0</td>\n",
              "      <td>undefined</td>\n",
              "      <td>0.0</td>\n",
              "      <td>0.0</td>\n",
              "      <td>3.0</td>\n",
              "      <td>0.0</td>\n",
              "      <td>2017-01-24 08:47:42</td>\n",
              "      <td>1.485248e+09</td>\n",
              "      <td>2017-01-24</td>\n",
              "      <td>Not Available</td>\n",
              "      <td>1080.0</td>\n",
              "      <td>0.000108</td>\n",
              "    </tr>\n",
              "    <tr>\n",
              "      <th>3</th>\n",
              "      <td>0</td>\n",
              "      <td>2017-01-24T09:05:21.0000000Z</td>\n",
              "      <td>18.12519</td>\n",
              "      <td>-94.41902</td>\n",
              "      <td>0.0</td>\n",
              "      <td>-195.4</td>\n",
              "      <td>214.0</td>\n",
              "      <td>NaN</td>\n",
              "      <td>NaN</td>\n",
              "      <td>NaN</td>\n",
              "      <td>0.0</td>\n",
              "      <td>undefined</td>\n",
              "      <td>0.0</td>\n",
              "      <td>0.0</td>\n",
              "      <td>3.0</td>\n",
              "      <td>0.0</td>\n",
              "      <td>2017-01-24 09:05:21</td>\n",
              "      <td>1.485249e+09</td>\n",
              "      <td>2017-01-24</td>\n",
              "      <td>Not Available</td>\n",
              "      <td>1059.0</td>\n",
              "      <td>0.000106</td>\n",
              "    </tr>\n",
              "    <tr>\n",
              "      <th>4</th>\n",
              "      <td>0</td>\n",
              "      <td>2017-01-24T20:56:52.0000000Z</td>\n",
              "      <td>18.79671</td>\n",
              "      <td>-93.43659</td>\n",
              "      <td>11.8</td>\n",
              "      <td>58.5</td>\n",
              "      <td>59.0</td>\n",
              "      <td>NaN</td>\n",
              "      <td>NaN</td>\n",
              "      <td>NaN</td>\n",
              "      <td>0.0</td>\n",
              "      <td>undefined</td>\n",
              "      <td>0.0</td>\n",
              "      <td>0.0</td>\n",
              "      <td>3.0</td>\n",
              "      <td>0.0</td>\n",
              "      <td>2017-01-24 20:56:52</td>\n",
              "      <td>1.485291e+09</td>\n",
              "      <td>2017-01-24</td>\n",
              "      <td>Not Available</td>\n",
              "      <td>42691.0</td>\n",
              "      <td>0.004271</td>\n",
              "    </tr>\n",
              "  </tbody>\n",
              "</table>\n",
              "</div>"
            ],
            "text/plain": [
              "  MMSI                  BaseDateTime  ...  TimeDiff  TimeDiffRatio\n",
              "0    0  2017-01-24T08:27:12.0000000Z  ...       0.0       0.000000\n",
              "1    0  2017-01-24T08:29:42.0000000Z  ...     150.0       0.000015\n",
              "2    0  2017-01-24T08:47:42.0000000Z  ...    1080.0       0.000108\n",
              "3    0  2017-01-24T09:05:21.0000000Z  ...    1059.0       0.000106\n",
              "4    0  2017-01-24T20:56:52.0000000Z  ...   42691.0       0.004271\n",
              "\n",
              "[5 rows x 22 columns]"
            ]
          },
          "metadata": {
            "tags": []
          },
          "execution_count": 68
        }
      ]
    },
    {
      "cell_type": "code",
      "metadata": {
        "id": "ZvVgfsu9NPTv",
        "colab_type": "code",
        "colab": {}
      },
      "source": [
        "new_df_ratio.to_csv('2017_zone15_with_ratio.csv',index=False)"
      ],
      "execution_count": 0,
      "outputs": []
    },
    {
      "cell_type": "code",
      "metadata": {
        "id": "3uTdvnn9f4VP",
        "colab_type": "code",
        "outputId": "7a641263-fa9c-4c0d-cc4f-5e496b82604d",
        "colab": {
          "base_uri": "https://localhost:8080/",
          "height": 595
        }
      },
      "source": [
        "!pip install pyod"
      ],
      "execution_count": 0,
      "outputs": [
        {
          "output_type": "stream",
          "text": [
            "Collecting pyod\n",
            "\u001b[?25l  Downloading https://files.pythonhosted.org/packages/17/d5/12bf702a918ac36e944fedb2257d51167b049b951f2b72503fc9a54dc9e8/pyod-0.7.7.1.tar.gz (87kB)\n",
            "\r\u001b[K     |███▊                            | 10kB 18.9MB/s eta 0:00:01\r\u001b[K     |███████▌                        | 20kB 1.8MB/s eta 0:00:01\r\u001b[K     |███████████▎                    | 30kB 2.3MB/s eta 0:00:01\r\u001b[K     |███████████████                 | 40kB 1.7MB/s eta 0:00:01\r\u001b[K     |██████████████████▊             | 51kB 1.9MB/s eta 0:00:01\r\u001b[K     |██████████████████████▌         | 61kB 2.3MB/s eta 0:00:01\r\u001b[K     |██████████████████████████▎     | 71kB 2.4MB/s eta 0:00:01\r\u001b[K     |██████████████████████████████  | 81kB 2.7MB/s eta 0:00:01\r\u001b[K     |████████████████████████████████| 92kB 2.5MB/s \n",
            "\u001b[?25hCollecting combo\n",
            "  Downloading https://files.pythonhosted.org/packages/78/52/e880bd923eba122515307d29ab43c1c356bad60610c27bed2cdec25d0240/combo-0.1.0.tar.gz\n",
            "Requirement already satisfied: joblib in /usr/local/lib/python3.6/dist-packages (from pyod) (0.14.1)\n",
            "Requirement already satisfied: matplotlib in /usr/local/lib/python3.6/dist-packages (from pyod) (3.1.3)\n",
            "Requirement already satisfied: numpy>=1.13 in /usr/local/lib/python3.6/dist-packages (from pyod) (1.17.5)\n",
            "Requirement already satisfied: numba>=0.35 in /usr/local/lib/python3.6/dist-packages (from pyod) (0.47.0)\n",
            "Requirement already satisfied: scipy>=0.19.1 in /usr/local/lib/python3.6/dist-packages (from pyod) (1.4.1)\n",
            "Requirement already satisfied: scikit_learn>=0.19.1 in /usr/local/lib/python3.6/dist-packages (from pyod) (0.22.1)\n",
            "Requirement already satisfied: six in /usr/local/lib/python3.6/dist-packages (from pyod) (1.12.0)\n",
            "Collecting suod\n",
            "\u001b[?25l  Downloading https://files.pythonhosted.org/packages/8b/b9/aeaa3371f71fc039da982979ea6d6ffd9e356926c9fc630f42a5dc9d494e/suod-0.0.3.tar.gz (2.1MB)\n",
            "\u001b[K     |████████████████████████████████| 2.1MB 8.4MB/s \n",
            "\u001b[?25hRequirement already satisfied: python-dateutil>=2.1 in /usr/local/lib/python3.6/dist-packages (from matplotlib->pyod) (2.6.1)\n",
            "Requirement already satisfied: cycler>=0.10 in /usr/local/lib/python3.6/dist-packages (from matplotlib->pyod) (0.10.0)\n",
            "Requirement already satisfied: pyparsing!=2.0.4,!=2.1.2,!=2.1.6,>=2.0.1 in /usr/local/lib/python3.6/dist-packages (from matplotlib->pyod) (2.4.6)\n",
            "Requirement already satisfied: kiwisolver>=1.0.1 in /usr/local/lib/python3.6/dist-packages (from matplotlib->pyod) (1.1.0)\n",
            "Requirement already satisfied: setuptools in /usr/local/lib/python3.6/dist-packages (from numba>=0.35->pyod) (45.1.0)\n",
            "Requirement already satisfied: llvmlite>=0.31.0dev0 in /usr/local/lib/python3.6/dist-packages (from numba>=0.35->pyod) (0.31.0)\n",
            "Building wheels for collected packages: pyod, combo, suod\n",
            "  Building wheel for pyod (setup.py) ... \u001b[?25l\u001b[?25hdone\n",
            "  Created wheel for pyod: filename=pyod-0.7.7.1-cp36-none-any.whl size=98961 sha256=2025bfe9fcfa60f17228a99ee0261a5a8318d530eb11248ac2e73a762e221d2b\n",
            "  Stored in directory: /root/.cache/pip/wheels/9c/9e/bc/5bac69bdb00bfefbbfa74a43409d328962c349ad1b0954470a\n",
            "  Building wheel for combo (setup.py) ... \u001b[?25l\u001b[?25hdone\n",
            "  Created wheel for combo: filename=combo-0.1.0-cp36-none-any.whl size=42043 sha256=e1e42fff7f99d0574d52e2031eafa9be5f007481f5d70d2f62cc9ca1a01f27b5\n",
            "  Stored in directory: /root/.cache/pip/wheels/00/fd/6c/8da495ef08ce61844a646df2423c2b8ecda377a89c90ecd88e\n",
            "  Building wheel for suod (setup.py) ... \u001b[?25l\u001b[?25hdone\n",
            "  Created wheel for suod: filename=suod-0.0.3-cp36-none-any.whl size=2166457 sha256=b711705e82b29526df99abe89f7873fd3b6f626ae618b14abe10beb799cec1d8\n",
            "  Stored in directory: /root/.cache/pip/wheels/15/56/16/6944851600a62d859c89cd11df1adecbe0b6a02f7ad713d4dd\n",
            "Successfully built pyod combo suod\n",
            "Installing collected packages: combo, suod, pyod\n",
            "Successfully installed combo-0.1.0 pyod-0.7.7.1 suod-0.0.3\n"
          ],
          "name": "stdout"
        }
      ]
    },
    {
      "cell_type": "markdown",
      "metadata": {
        "id": "ZbrBkBVTYHII",
        "colab_type": "text"
      },
      "source": [
        "**Cluster-based Local Outlier Factor**"
      ]
    },
    {
      "cell_type": "code",
      "metadata": {
        "id": "RAoEFkUonifx",
        "colab_type": "code",
        "colab": {}
      },
      "source": [
        "import pandas as pd\n",
        "import numpy as np\n",
        "import matplotlib\n",
        "import matplotlib.pyplot as plt\n",
        "from scipy import stats"
      ],
      "execution_count": 0,
      "outputs": []
    },
    {
      "cell_type": "code",
      "metadata": {
        "id": "TDDox_VmYKt6",
        "colab_type": "code",
        "outputId": "f8ea4eea-351a-44d4-89e9-22a9b16b1a02",
        "colab": {
          "base_uri": "https://localhost:8080/",
          "height": 71
        }
      },
      "source": [
        "\n",
        "# Import models\n",
        "from pyod.models.abod import ABOD\n",
        "from pyod.models.cblof import CBLOF\n",
        "from pyod.models.feature_bagging import FeatureBagging\n",
        "from pyod.models.hbos import HBOS\n",
        "from pyod.models.iforest import IForest\n",
        "from pyod.models.knn import KNN\n",
        "from pyod.models.lof import LOF\n",
        "# reading the big mart sales training data\n",
        "new_df_ratio = pd.read_csv(\"/content/drive/My Drive/DSA4261 Supply Chain and Logistics/Project 1 Data /2017_zone15_with_ratio.csv\")\n",
        "df = new_df_ratio"
      ],
      "execution_count": 0,
      "outputs": [
        {
          "output_type": "stream",
          "text": [
            "/usr/local/lib/python3.6/dist-packages/sklearn/utils/deprecation.py:144: FutureWarning: The sklearn.utils.testing module is  deprecated in version 0.22 and will be removed in version 0.24. The corresponding classes / functions should instead be imported from sklearn.utils. Anything that cannot be imported from sklearn.utils is now part of the private API.\n",
            "  warnings.warn(message, FutureWarning)\n"
          ],
          "name": "stderr"
        }
      ]
    },
    {
      "cell_type": "code",
      "metadata": {
        "id": "QlisRnmKY7eN",
        "colab_type": "code",
        "outputId": "e8cac74f-2309-4d4f-9457-f714a94bee17",
        "colab": {
          "base_uri": "https://localhost:8080/",
          "height": 296
        }
      },
      "source": [
        "df.plot.scatter('SOG','TimeDiffRatio')"
      ],
      "execution_count": 0,
      "outputs": [
        {
          "output_type": "execute_result",
          "data": {
            "text/plain": [
              "<matplotlib.axes._subplots.AxesSubplot at 0x7feba937f860>"
            ]
          },
          "metadata": {
            "tags": []
          },
          "execution_count": 8
        },
        {
          "output_type": "display_data",
          "data": {
            "image/png": "[encoded data removed]",
            "text/plain": [
              "<Figure size 432x288 with 1 Axes>"
            ]
          },
          "metadata": {
            "tags": []
          }
        }
      ]
    },
    {
      "cell_type": "code",
      "metadata": {
        "id": "AUZgdxD9gfGN",
        "colab_type": "code",
        "outputId": "f0bd7aef-6ece-47b0-fca5-3a6ede444c40",
        "colab": {
          "base_uri": "https://localhost:8080/",
          "height": 296
        }
      },
      "source": [
        "#remove values that are smaller than 0; since speed should be more than 0 and less than 25\n",
        "df = df[(df['SOG'] >= 0) & (df['SOG'] <= 25) & (df['TimeDiffRatio'] >0.0)]\n",
        "df.plot.scatter('SOG','TimeDiffRatio')"
      ],
      "execution_count": 0,
      "outputs": [
        {
          "output_type": "execute_result",
          "data": {
            "text/plain": [
              "<matplotlib.axes._subplots.AxesSubplot at 0x7feba6995e10>"
            ]
          },
          "metadata": {
            "tags": []
          },
          "execution_count": 9
        },
        {
          "output_type": "display_data",
          "data": {
            "image/png": "[encoded data removed]",
            "text/plain": [
              "<Figure size 432x288 with 1 Axes>"
            ]
          },
          "metadata": {
            "tags": []
          }
        }
      ]
    },
    {
      "cell_type": "code",
      "metadata": {
        "id": "MNnde1o2YbRg",
        "colab_type": "code",
        "outputId": "8321fbdf-452f-4695-80a7-50341855799d",
        "colab": {
          "base_uri": "https://localhost:8080/",
          "height": 408
        }
      },
      "source": [
        "from sklearn.preprocessing import MinMaxScaler\n",
        "\n",
        "scaler = MinMaxScaler(feature_range=(0, 1))\n",
        "df[['SOG','TimeDiffRatio']] = scaler.fit_transform(df[['SOG','TimeDiffRatio']])\n",
        "df[['SOG','TimeDiffRatio']].head()"
      ],
      "execution_count": 0,
      "outputs": [
        {
          "output_type": "stream",
          "text": [
            "/usr/local/lib/python3.6/dist-packages/ipykernel_launcher.py:4: SettingWithCopyWarning: \n",
            "A value is trying to be set on a copy of a slice from a DataFrame.\n",
            "Try using .loc[row_indexer,col_indexer] = value instead\n",
            "\n",
            "See the caveats in the documentation: http://pandas.pydata.org/pandas-docs/stable/user_guide/indexing.html#returning-a-view-versus-a-copy\n",
            "  after removing the cwd from sys.path.\n",
            "/usr/local/lib/python3.6/dist-packages/pandas/core/indexing.py:494: SettingWithCopyWarning: \n",
            "A value is trying to be set on a copy of a slice from a DataFrame.\n",
            "Try using .loc[row_indexer,col_indexer] = value instead\n",
            "\n",
            "See the caveats in the documentation: http://pandas.pydata.org/pandas-docs/stable/user_guide/indexing.html#returning-a-view-versus-a-copy\n",
            "  self.obj[item] = s\n"
          ],
          "name": "stderr"
        },
        {
          "output_type": "execute_result",
          "data": {
            "text/html": [
              "<div>\n",
              "<style scoped>\n",
              "    .dataframe tbody tr th:only-of-type {\n",
              "        vertical-align: middle;\n",
              "    }\n",
              "\n",
              "    .dataframe tbody tr th {\n",
              "        vertical-align: top;\n",
              "    }\n",
              "\n",
              "    .dataframe thead th {\n",
              "        text-align: right;\n",
              "    }\n",
              "</style>\n",
              "<table border=\"1\" class=\"dataframe\">\n",
              "  <thead>\n",
              "    <tr style=\"text-align: right;\">\n",
              "      <th></th>\n",
              "      <th>SOG</th>\n",
              "      <th>TimeDiffRatio</th>\n",
              "    </tr>\n",
              "  </thead>\n",
              "  <tbody>\n",
              "    <tr>\n",
              "      <th>1</th>\n",
              "      <td>0.000000</td>\n",
              "      <td>0.000015</td>\n",
              "    </tr>\n",
              "    <tr>\n",
              "      <th>2</th>\n",
              "      <td>0.000000</td>\n",
              "      <td>0.000108</td>\n",
              "    </tr>\n",
              "    <tr>\n",
              "      <th>3</th>\n",
              "      <td>0.000000</td>\n",
              "      <td>0.000106</td>\n",
              "    </tr>\n",
              "    <tr>\n",
              "      <th>4</th>\n",
              "      <td>0.489627</td>\n",
              "      <td>0.004271</td>\n",
              "    </tr>\n",
              "    <tr>\n",
              "      <th>5</th>\n",
              "      <td>0.485477</td>\n",
              "      <td>0.000015</td>\n",
              "    </tr>\n",
              "  </tbody>\n",
              "</table>\n",
              "</div>"
            ],
            "text/plain": [
              "        SOG  TimeDiffRatio\n",
              "1  0.000000       0.000015\n",
              "2  0.000000       0.000108\n",
              "3  0.000000       0.000106\n",
              "4  0.489627       0.004271\n",
              "5  0.485477       0.000015"
            ]
          },
          "metadata": {
            "tags": []
          },
          "execution_count": 10
        }
      ]
    },
    {
      "cell_type": "code",
      "metadata": {
        "id": "nstMW1E1CT8_",
        "colab_type": "code",
        "colab": {}
      },
      "source": [
        "X1 = df['SOG'].values.reshape(-1,1)\n",
        "X2 = df['TimeDiffRatio'].values.reshape(-1,1)\n",
        "\n",
        "X = np.concatenate((X1,X2),axis=1)"
      ],
      "execution_count": 0,
      "outputs": []
    },
    {
      "cell_type": "code",
      "metadata": {
        "id": "arZk5JlfCKJg",
        "colab_type": "code",
        "colab": {}
      },
      "source": [
        "random_state = np.random.RandomState(42)\n",
        "outliers_fraction = 0.005\n",
        "# Define seven outlier detection tools to be compared\n",
        "classifiers = {\n",
        "        # 'Angle-based Outlier Detector (ABOD)': ABOD(contamination=outliers_fraction),\n",
        "        'Cluster-based Local Outlier Factor (CBLOF)':CBLOF(contamination=outliers_fraction,check_estimator=False, random_state=random_state),\n",
        "        # 'Feature Bagging':FeatureBagging(LOF(n_neighbors=35),contamination=outliers_fraction,check_estimator=False,random_state=random_state),\n",
        "        # 'Histogram-base Outlier Detection (HBOS)': HBOS(contamination=outliers_fraction),\n",
        "        # 'Isolation Forest': IForest(contamination=outliers_fraction,random_state=random_state),\n",
        "        # 'K Nearest Neighbors (KNN)': KNN(contamination=outliers_fraction),\n",
        "        # 'Average KNN': KNN(method='mean',contamination=outliers_fraction)\n",
        "}"
      ],
      "execution_count": 0,
      "outputs": []
    },
    {
      "cell_type": "code",
      "metadata": {
        "id": "CrEzgaKpDLkV",
        "colab_type": "code",
        "outputId": "4bcaffd7-33ea-419d-ca81-efc92691cf88",
        "colab": {
          "base_uri": "https://localhost:8080/",
          "height": 743
        }
      },
      "source": [
        "xx , yy = np.meshgrid(np.linspace(0,1 , 200), np.linspace(0, 1, 200))\n",
        "\n",
        "for i, (clf_name, clf) in enumerate(classifiers.items()):\n",
        "    clf.fit(X)\n",
        "    # predict raw anomaly score\n",
        "    scores_pred = clf.decision_function(X) * -1\n",
        "        \n",
        "    # prediction of a datapoint category outlier or inlier\n",
        "    y_pred = clf.predict(X)\n",
        "    n_inliers = len(y_pred) - np.count_nonzero(y_pred)\n",
        "    n_outliers = np.count_nonzero(y_pred == 1)\n",
        "    plt.figure(figsize=(10, 10))\n",
        "    \n",
        "    # copy of dataframe\n",
        "    dfx = df\n",
        "    dfx['outlier'] = y_pred.tolist()\n",
        "    \n",
        "    # IX1 - inlier feature 1,  IX2 - inlier feature 2\n",
        "    IX1 =  np.array(dfx['SOG'][dfx['outlier'] == 0]).reshape(-1,1)\n",
        "    IX2 =  np.array(dfx['TimeDiffRatio'][dfx['outlier'] == 0]).reshape(-1,1)\n",
        "    \n",
        "    # OX1 - outlier feature 1, OX2 - outlier feature 2\n",
        "    OX1 =  dfx['SOG'][dfx['outlier'] == 1].values.reshape(-1,1)\n",
        "    OX2 =  dfx['TimeDiffRatio'][dfx['outlier'] == 1].values.reshape(-1,1)\n",
        "         \n",
        "    print('OUTLIERS : ',n_outliers,'INLIERS : ',n_inliers, clf_name)\n",
        "        \n",
        "    # threshold value to consider a datapoint inlier or outlier\n",
        "    threshold = stats.scoreatpercentile(scores_pred,100 * outliers_fraction)\n",
        "        \n",
        "    # decision function calculates the raw anomaly score for every point\n",
        "    Z = clf.decision_function(np.c_[xx.ravel(), yy.ravel()]) * -1\n",
        "    Z = Z.reshape(xx.shape)\n",
        "          \n",
        "    # fill blue map colormap from minimum anomaly score to threshold value\n",
        "    plt.contourf(xx, yy, Z, levels=np.linspace(Z.min(), threshold, 7),cmap=plt.cm.Blues_r)\n",
        "        \n",
        "    # draw red contour line where anomaly score is equal to thresold\n",
        "    a = plt.contour(xx, yy, Z, levels=[threshold],linewidths=2, colors='red')\n",
        "        \n",
        "    # fill orange contour lines where range of anomaly score is from threshold to maximum anomaly score\n",
        "    plt.contourf(xx, yy, Z, levels=[threshold, Z.max()],colors='orange')\n",
        "        \n",
        "    b = plt.scatter(IX1,IX2, c='red',s=20, edgecolor='k')\n",
        "    \n",
        "    c = plt.scatter(OX1,OX2, c='black',s=20, edgecolor='k')\n",
        "       \n",
        "    plt.axis('tight')  \n",
        "    \n",
        "    # loc=2 is used for the top left corner \n",
        "    plt.legend(\n",
        "        [a.collections[0], b,c],\n",
        "        ['learned decision function', 'inliers','outliers'],\n",
        "        prop=matplotlib.font_manager.FontProperties(size=20),\n",
        "        loc=2)\n",
        "      \n",
        "    plt.xlim((0, 1))\n",
        "    plt.ylim((0, 1))\n",
        "    plt.title(clf_name)\n",
        "    plt.show()\n",
        "    plt.savefig('CBLOF_GRAPH.png')"
      ],
      "execution_count": 0,
      "outputs": [
        {
          "output_type": "stream",
          "text": [
            "/usr/local/lib/python3.6/dist-packages/ipykernel_launcher.py:16: SettingWithCopyWarning: \n",
            "A value is trying to be set on a copy of a slice from a DataFrame.\n",
            "Try using .loc[row_indexer,col_indexer] = value instead\n",
            "\n",
            "See the caveats in the documentation: http://pandas.pydata.org/pandas-docs/stable/user_guide/indexing.html#returning-a-view-versus-a-copy\n",
            "  app.launch_new_instance()\n"
          ],
          "name": "stderr"
        },
        {
          "output_type": "stream",
          "text": [
            "OUTLIERS :  5118 INLIERS :  1018798 Cluster-based Local Outlier Factor (CBLOF)\n"
          ],
          "name": "stdout"
        },
        {
          "output_type": "display_data",
          "data": {
            "image/png": "[encoded data removed]",
            "text/plain": [
              "<Figure size 720x720 with 1 Axes>"
            ]
          },
          "metadata": {
            "tags": []
          }
        },
        {
          "output_type": "display_data",
          "data": {
            "text/plain": [
              "<Figure size 432x288 with 0 Axes>"
            ]
          },
          "metadata": {
            "tags": []
          }
        }
      ]
    },
    {
      "cell_type": "code",
      "metadata": {
        "id": "upzcTK3rqkJw",
        "colab_type": "code",
        "outputId": "69d707c1-92ad-4fe7-cd1a-e373c897aaaa",
        "colab": {
          "base_uri": "https://localhost:8080/",
          "height": 34
        }
      },
      "source": [
        "plt.savefig('CBLOF_GRAPH.png')"
      ],
      "execution_count": 0,
      "outputs": [
        {
          "output_type": "display_data",
          "data": {
            "text/plain": [
              "<Figure size 432x288 with 0 Axes>"
            ]
          },
          "metadata": {
            "tags": []
          }
        }
      ]
    },
    {
      "cell_type": "code",
      "metadata": {
        "id": "jmZjvTHb8GhG",
        "colab_type": "code",
        "outputId": "3b7f07d0-bad0-4999-9553-ad06a2883abc",
        "colab": {
          "base_uri": "https://localhost:8080/",
          "height": 309
        }
      },
      "source": [
        "# df['CBLOF Pred'] = y_pred\n",
        "df.head()"
      ],
      "execution_count": 0,
      "outputs": [
        {
          "output_type": "execute_result",
          "data": {
            "text/html": [
              "<div>\n",
              "<style scoped>\n",
              "    .dataframe tbody tr th:only-of-type {\n",
              "        vertical-align: middle;\n",
              "    }\n",
              "\n",
              "    .dataframe tbody tr th {\n",
              "        vertical-align: top;\n",
              "    }\n",
              "\n",
              "    .dataframe thead th {\n",
              "        text-align: right;\n",
              "    }\n",
              "</style>\n",
              "<table border=\"1\" class=\"dataframe\">\n",
              "  <thead>\n",
              "    <tr style=\"text-align: right;\">\n",
              "      <th></th>\n",
              "      <th>MMSI</th>\n",
              "      <th>BaseDateTime</th>\n",
              "      <th>LAT</th>\n",
              "      <th>LON</th>\n",
              "      <th>SOG</th>\n",
              "      <th>COG</th>\n",
              "      <th>Heading</th>\n",
              "      <th>VesselName</th>\n",
              "      <th>IMO</th>\n",
              "      <th>CallSign</th>\n",
              "      <th>VesselType</th>\n",
              "      <th>Status</th>\n",
              "      <th>Length</th>\n",
              "      <th>Width</th>\n",
              "      <th>Draft</th>\n",
              "      <th>Cargo</th>\n",
              "      <th>BaseDateTime_UTC</th>\n",
              "      <th>BaseDateTime_UNIX</th>\n",
              "      <th>Date</th>\n",
              "      <th>VesselType_New</th>\n",
              "      <th>TimeDiff</th>\n",
              "      <th>TimeDiffRatio</th>\n",
              "      <th>outlier</th>\n",
              "    </tr>\n",
              "  </thead>\n",
              "  <tbody>\n",
              "    <tr>\n",
              "      <th>1</th>\n",
              "      <td>0</td>\n",
              "      <td>2017-01-24T08:29:42.0000000Z</td>\n",
              "      <td>18.12518</td>\n",
              "      <td>-94.41903</td>\n",
              "      <td>0.000000</td>\n",
              "      <td>-195.6</td>\n",
              "      <td>214.0</td>\n",
              "      <td>NaN</td>\n",
              "      <td>NaN</td>\n",
              "      <td>NaN</td>\n",
              "      <td>0.0</td>\n",
              "      <td>undefined</td>\n",
              "      <td>0.0</td>\n",
              "      <td>0.0</td>\n",
              "      <td>3.0</td>\n",
              "      <td>0.0</td>\n",
              "      <td>2017-01-24 08:29:42</td>\n",
              "      <td>1.485247e+09</td>\n",
              "      <td>2017-01-24</td>\n",
              "      <td>Not Available</td>\n",
              "      <td>150.0</td>\n",
              "      <td>0.000015</td>\n",
              "      <td>0</td>\n",
              "    </tr>\n",
              "    <tr>\n",
              "      <th>2</th>\n",
              "      <td>0</td>\n",
              "      <td>2017-01-24T08:47:42.0000000Z</td>\n",
              "      <td>18.12518</td>\n",
              "      <td>-94.41903</td>\n",
              "      <td>0.000000</td>\n",
              "      <td>-195.7</td>\n",
              "      <td>214.0</td>\n",
              "      <td>NaN</td>\n",
              "      <td>NaN</td>\n",
              "      <td>NaN</td>\n",
              "      <td>0.0</td>\n",
              "      <td>undefined</td>\n",
              "      <td>0.0</td>\n",
              "      <td>0.0</td>\n",
              "      <td>3.0</td>\n",
              "      <td>0.0</td>\n",
              "      <td>2017-01-24 08:47:42</td>\n",
              "      <td>1.485248e+09</td>\n",
              "      <td>2017-01-24</td>\n",
              "      <td>Not Available</td>\n",
              "      <td>1080.0</td>\n",
              "      <td>0.000108</td>\n",
              "      <td>0</td>\n",
              "    </tr>\n",
              "    <tr>\n",
              "      <th>3</th>\n",
              "      <td>0</td>\n",
              "      <td>2017-01-24T09:05:21.0000000Z</td>\n",
              "      <td>18.12519</td>\n",
              "      <td>-94.41902</td>\n",
              "      <td>0.000000</td>\n",
              "      <td>-195.4</td>\n",
              "      <td>214.0</td>\n",
              "      <td>NaN</td>\n",
              "      <td>NaN</td>\n",
              "      <td>NaN</td>\n",
              "      <td>0.0</td>\n",
              "      <td>undefined</td>\n",
              "      <td>0.0</td>\n",
              "      <td>0.0</td>\n",
              "      <td>3.0</td>\n",
              "      <td>0.0</td>\n",
              "      <td>2017-01-24 09:05:21</td>\n",
              "      <td>1.485249e+09</td>\n",
              "      <td>2017-01-24</td>\n",
              "      <td>Not Available</td>\n",
              "      <td>1059.0</td>\n",
              "      <td>0.000106</td>\n",
              "      <td>0</td>\n",
              "    </tr>\n",
              "    <tr>\n",
              "      <th>4</th>\n",
              "      <td>0</td>\n",
              "      <td>2017-01-24T20:56:52.0000000Z</td>\n",
              "      <td>18.79671</td>\n",
              "      <td>-93.43659</td>\n",
              "      <td>0.489627</td>\n",
              "      <td>58.5</td>\n",
              "      <td>59.0</td>\n",
              "      <td>NaN</td>\n",
              "      <td>NaN</td>\n",
              "      <td>NaN</td>\n",
              "      <td>0.0</td>\n",
              "      <td>undefined</td>\n",
              "      <td>0.0</td>\n",
              "      <td>0.0</td>\n",
              "      <td>3.0</td>\n",
              "      <td>0.0</td>\n",
              "      <td>2017-01-24 20:56:52</td>\n",
              "      <td>1.485291e+09</td>\n",
              "      <td>2017-01-24</td>\n",
              "      <td>Not Available</td>\n",
              "      <td>42691.0</td>\n",
              "      <td>0.004271</td>\n",
              "      <td>0</td>\n",
              "    </tr>\n",
              "    <tr>\n",
              "      <th>5</th>\n",
              "      <td>0</td>\n",
              "      <td>2017-01-24T20:59:25.0000000Z</td>\n",
              "      <td>18.80160</td>\n",
              "      <td>-93.42945</td>\n",
              "      <td>0.485477</td>\n",
              "      <td>59.4</td>\n",
              "      <td>60.0</td>\n",
              "      <td>NaN</td>\n",
              "      <td>NaN</td>\n",
              "      <td>NaN</td>\n",
              "      <td>0.0</td>\n",
              "      <td>undefined</td>\n",
              "      <td>0.0</td>\n",
              "      <td>0.0</td>\n",
              "      <td>3.0</td>\n",
              "      <td>0.0</td>\n",
              "      <td>2017-01-24 20:59:25</td>\n",
              "      <td>1.485292e+09</td>\n",
              "      <td>2017-01-24</td>\n",
              "      <td>Not Available</td>\n",
              "      <td>153.0</td>\n",
              "      <td>0.000015</td>\n",
              "      <td>0</td>\n",
              "    </tr>\n",
              "  </tbody>\n",
              "</table>\n",
              "</div>"
            ],
            "text/plain": [
              "   MMSI                  BaseDateTime  ...  TimeDiffRatio  outlier\n",
              "1     0  2017-01-24T08:29:42.0000000Z  ...       0.000015        0\n",
              "2     0  2017-01-24T08:47:42.0000000Z  ...       0.000108        0\n",
              "3     0  2017-01-24T09:05:21.0000000Z  ...       0.000106        0\n",
              "4     0  2017-01-24T20:56:52.0000000Z  ...       0.004271        0\n",
              "5     0  2017-01-24T20:59:25.0000000Z  ...       0.000015        0\n",
              "\n",
              "[5 rows x 23 columns]"
            ]
          },
          "metadata": {
            "tags": []
          },
          "execution_count": 70
        }
      ]
    },
    {
      "cell_type": "code",
      "metadata": {
        "id": "0QicokFW9Iie",
        "colab_type": "code",
        "colab": {}
      },
      "source": [
        "df.to_csv('CBLOF.csv',index=False)"
      ],
      "execution_count": 0,
      "outputs": []
    }
  ]
}